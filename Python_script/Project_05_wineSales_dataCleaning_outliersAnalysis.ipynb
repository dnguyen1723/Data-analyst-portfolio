{
 "cells": [
  {
   "cell_type": "markdown",
   "id": "5820ebe5",
   "metadata": {},
   "source": [
    "## 1. Conversion des fichiers XLSX vers CSV\n",
    "## 2. Remplacement des point-virgules par des virgules via Notepad\n",
    "## 3. Importation des librairies"
   ]
  },
  {
   "cell_type": "code",
   "execution_count": 1,
   "id": "4a1655fa",
   "metadata": {},
   "outputs": [],
   "source": [
    "import pandas as pd\n",
    "import numpy as np\n",
    "import matplotlib.pyplot as plt\n",
    "import seaborn as sns"
   ]
  },
  {
   "cell_type": "markdown",
   "id": "fbf62af3",
   "metadata": {},
   "source": [
    "## 4. Importation des fichiers CSVs"
   ]
  },
  {
   "cell_type": "code",
   "execution_count": 2,
   "id": "4e78a4a0",
   "metadata": {},
   "outputs": [],
   "source": [
    "erp = pd.read_csv('erp.csv')\n",
    "liaison = pd.read_csv('liaison.csv')\n",
    "web = pd.read_csv('web.csv', encoding='latin1')"
   ]
  },
  {
   "cell_type": "markdown",
   "id": "22c68590",
   "metadata": {},
   "source": [
    "## 5. Aperçu des dataframes"
   ]
  },
  {
   "cell_type": "markdown",
   "id": "555578c7",
   "metadata": {},
   "source": [
    "### 5.1 Aperçu table 'erp'"
   ]
  },
  {
   "cell_type": "code",
   "execution_count": 3,
   "id": "13af6f01",
   "metadata": {},
   "outputs": [
    {
     "data": {
      "text/html": [
       "<div>\n",
       "<style scoped>\n",
       "    .dataframe tbody tr th:only-of-type {\n",
       "        vertical-align: middle;\n",
       "    }\n",
       "\n",
       "    .dataframe tbody tr th {\n",
       "        vertical-align: top;\n",
       "    }\n",
       "\n",
       "    .dataframe thead th {\n",
       "        text-align: right;\n",
       "    }\n",
       "</style>\n",
       "<table border=\"1\" class=\"dataframe\">\n",
       "  <thead>\n",
       "    <tr style=\"text-align: right;\">\n",
       "      <th></th>\n",
       "      <th>product_id</th>\n",
       "      <th>onsale_web</th>\n",
       "      <th>price</th>\n",
       "      <th>stock_quantity</th>\n",
       "      <th>stock_status</th>\n",
       "    </tr>\n",
       "  </thead>\n",
       "  <tbody>\n",
       "    <tr>\n",
       "      <th>0</th>\n",
       "      <td>3847</td>\n",
       "      <td>1</td>\n",
       "      <td>24.2</td>\n",
       "      <td>0</td>\n",
       "      <td>outofstock</td>\n",
       "    </tr>\n",
       "    <tr>\n",
       "      <th>1</th>\n",
       "      <td>3849</td>\n",
       "      <td>1</td>\n",
       "      <td>34.3</td>\n",
       "      <td>0</td>\n",
       "      <td>outofstock</td>\n",
       "    </tr>\n",
       "    <tr>\n",
       "      <th>2</th>\n",
       "      <td>3850</td>\n",
       "      <td>1</td>\n",
       "      <td>20.8</td>\n",
       "      <td>0</td>\n",
       "      <td>outofstock</td>\n",
       "    </tr>\n",
       "    <tr>\n",
       "      <th>3</th>\n",
       "      <td>4032</td>\n",
       "      <td>1</td>\n",
       "      <td>14.1</td>\n",
       "      <td>0</td>\n",
       "      <td>outofstock</td>\n",
       "    </tr>\n",
       "    <tr>\n",
       "      <th>4</th>\n",
       "      <td>4039</td>\n",
       "      <td>1</td>\n",
       "      <td>46.0</td>\n",
       "      <td>0</td>\n",
       "      <td>outofstock</td>\n",
       "    </tr>\n",
       "  </tbody>\n",
       "</table>\n",
       "</div>"
      ],
      "text/plain": [
       "   product_id  onsale_web  price  stock_quantity stock_status\n",
       "0        3847           1   24.2               0   outofstock\n",
       "1        3849           1   34.3               0   outofstock\n",
       "2        3850           1   20.8               0   outofstock\n",
       "3        4032           1   14.1               0   outofstock\n",
       "4        4039           1   46.0               0   outofstock"
      ]
     },
     "execution_count": 3,
     "metadata": {},
     "output_type": "execute_result"
    }
   ],
   "source": [
    "erp.head()"
   ]
  },
  {
   "cell_type": "markdown",
   "id": "6a7e8de6",
   "metadata": {},
   "source": [
    "### 5.2 Aperçu table 'liaison'"
   ]
  },
  {
   "cell_type": "code",
   "execution_count": 4,
   "id": "a1f5a455",
   "metadata": {},
   "outputs": [
    {
     "data": {
      "text/html": [
       "<div>\n",
       "<style scoped>\n",
       "    .dataframe tbody tr th:only-of-type {\n",
       "        vertical-align: middle;\n",
       "    }\n",
       "\n",
       "    .dataframe tbody tr th {\n",
       "        vertical-align: top;\n",
       "    }\n",
       "\n",
       "    .dataframe thead th {\n",
       "        text-align: right;\n",
       "    }\n",
       "</style>\n",
       "<table border=\"1\" class=\"dataframe\">\n",
       "  <thead>\n",
       "    <tr style=\"text-align: right;\">\n",
       "      <th></th>\n",
       "      <th>product_id</th>\n",
       "      <th>id_web</th>\n",
       "    </tr>\n",
       "  </thead>\n",
       "  <tbody>\n",
       "    <tr>\n",
       "      <th>0</th>\n",
       "      <td>3847</td>\n",
       "      <td>15298</td>\n",
       "    </tr>\n",
       "    <tr>\n",
       "      <th>1</th>\n",
       "      <td>3849</td>\n",
       "      <td>15296</td>\n",
       "    </tr>\n",
       "    <tr>\n",
       "      <th>2</th>\n",
       "      <td>3850</td>\n",
       "      <td>15300</td>\n",
       "    </tr>\n",
       "    <tr>\n",
       "      <th>3</th>\n",
       "      <td>4032</td>\n",
       "      <td>19814</td>\n",
       "    </tr>\n",
       "    <tr>\n",
       "      <th>4</th>\n",
       "      <td>4039</td>\n",
       "      <td>19815</td>\n",
       "    </tr>\n",
       "  </tbody>\n",
       "</table>\n",
       "</div>"
      ],
      "text/plain": [
       "   product_id id_web\n",
       "0        3847  15298\n",
       "1        3849  15296\n",
       "2        3850  15300\n",
       "3        4032  19814\n",
       "4        4039  19815"
      ]
     },
     "execution_count": 4,
     "metadata": {},
     "output_type": "execute_result"
    }
   ],
   "source": [
    "liaison.head()"
   ]
  },
  {
   "cell_type": "markdown",
   "id": "9d347cd8",
   "metadata": {},
   "source": [
    "### 5.3 Aperçu table 'web'"
   ]
  },
  {
   "cell_type": "code",
   "execution_count": 5,
   "id": "1f9c572b",
   "metadata": {},
   "outputs": [
    {
     "data": {
      "text/html": [
       "<div>\n",
       "<style scoped>\n",
       "    .dataframe tbody tr th:only-of-type {\n",
       "        vertical-align: middle;\n",
       "    }\n",
       "\n",
       "    .dataframe tbody tr th {\n",
       "        vertical-align: top;\n",
       "    }\n",
       "\n",
       "    .dataframe thead th {\n",
       "        text-align: right;\n",
       "    }\n",
       "</style>\n",
       "<table border=\"1\" class=\"dataframe\">\n",
       "  <thead>\n",
       "    <tr style=\"text-align: right;\">\n",
       "      <th></th>\n",
       "      <th>sku</th>\n",
       "      <th>virtual</th>\n",
       "      <th>downloadable</th>\n",
       "      <th>rating_count</th>\n",
       "      <th>average_rating</th>\n",
       "      <th>total_sales</th>\n",
       "      <th>tax_status</th>\n",
       "      <th>tax_class</th>\n",
       "      <th>post_author</th>\n",
       "      <th>post_date</th>\n",
       "      <th>...</th>\n",
       "      <th>post_name</th>\n",
       "      <th>post_modified</th>\n",
       "      <th>post_modified_gmt</th>\n",
       "      <th>post_content_filtered</th>\n",
       "      <th>post_parent</th>\n",
       "      <th>guid</th>\n",
       "      <th>menu_order</th>\n",
       "      <th>post_type</th>\n",
       "      <th>post_mime_type</th>\n",
       "      <th>comment_count</th>\n",
       "    </tr>\n",
       "  </thead>\n",
       "  <tbody>\n",
       "    <tr>\n",
       "      <th>0</th>\n",
       "      <td>bon-cadeau-25-euros</td>\n",
       "      <td>0</td>\n",
       "      <td>0</td>\n",
       "      <td>0</td>\n",
       "      <td>0.0</td>\n",
       "      <td>10.0</td>\n",
       "      <td>taxable</td>\n",
       "      <td>NaN</td>\n",
       "      <td>1.0</td>\n",
       "      <td>2018-06-01 13:53:46</td>\n",
       "      <td>...</td>\n",
       "      <td>bon-cadeau-de-25-euros</td>\n",
       "      <td>2018-06-01 14:13:57</td>\n",
       "      <td>2018-06-01 12:13:57</td>\n",
       "      <td>NaN</td>\n",
       "      <td>0.0</td>\n",
       "      <td>https://www.bottle-neck.fr/?post_type=product&amp;...</td>\n",
       "      <td>0.0</td>\n",
       "      <td>product</td>\n",
       "      <td>NaN</td>\n",
       "      <td>0.0</td>\n",
       "    </tr>\n",
       "    <tr>\n",
       "      <th>1</th>\n",
       "      <td>15298</td>\n",
       "      <td>0</td>\n",
       "      <td>0</td>\n",
       "      <td>0</td>\n",
       "      <td>0.0</td>\n",
       "      <td>6.0</td>\n",
       "      <td>taxable</td>\n",
       "      <td>NaN</td>\n",
       "      <td>2.0</td>\n",
       "      <td>2018-02-08 12:58:52</td>\n",
       "      <td>...</td>\n",
       "      <td>pierre-jean-villa-saint-joseph-preface-2018</td>\n",
       "      <td>2019-12-30 09:30:29</td>\n",
       "      <td>2019-12-30 08:30:29</td>\n",
       "      <td>NaN</td>\n",
       "      <td>0.0</td>\n",
       "      <td>https://www.bottle-neck.fr/?post_type=product&amp;...</td>\n",
       "      <td>0.0</td>\n",
       "      <td>product</td>\n",
       "      <td>NaN</td>\n",
       "      <td>0.0</td>\n",
       "    </tr>\n",
       "    <tr>\n",
       "      <th>2</th>\n",
       "      <td>15296</td>\n",
       "      <td>0</td>\n",
       "      <td>0</td>\n",
       "      <td>0</td>\n",
       "      <td>0.0</td>\n",
       "      <td>0.0</td>\n",
       "      <td>taxable</td>\n",
       "      <td>NaN</td>\n",
       "      <td>2.0</td>\n",
       "      <td>2018-02-08 13:49:41</td>\n",
       "      <td>...</td>\n",
       "      <td>pierre-jean-villa-saint-joseph-tilde-2017</td>\n",
       "      <td>2019-12-21 09:00:17</td>\n",
       "      <td>2019-12-21 08:00:17</td>\n",
       "      <td>NaN</td>\n",
       "      <td>0.0</td>\n",
       "      <td>https://www.bottle-neck.fr/?post_type=product&amp;...</td>\n",
       "      <td>0.0</td>\n",
       "      <td>product</td>\n",
       "      <td>NaN</td>\n",
       "      <td>0.0</td>\n",
       "    </tr>\n",
       "    <tr>\n",
       "      <th>3</th>\n",
       "      <td>15300</td>\n",
       "      <td>0</td>\n",
       "      <td>0</td>\n",
       "      <td>0</td>\n",
       "      <td>0.0</td>\n",
       "      <td>0.0</td>\n",
       "      <td>taxable</td>\n",
       "      <td>NaN</td>\n",
       "      <td>2.0</td>\n",
       "      <td>2018-02-08 14:08:36</td>\n",
       "      <td>...</td>\n",
       "      <td>pierre-jean-villa-croze-hermitage-accroche-coe...</td>\n",
       "      <td>2020-06-26 18:15:03</td>\n",
       "      <td>2020-06-26 16:15:03</td>\n",
       "      <td>NaN</td>\n",
       "      <td>0.0</td>\n",
       "      <td>https://www.bottle-neck.fr/?post_type=product&amp;...</td>\n",
       "      <td>0.0</td>\n",
       "      <td>product</td>\n",
       "      <td>NaN</td>\n",
       "      <td>0.0</td>\n",
       "    </tr>\n",
       "    <tr>\n",
       "      <th>4</th>\n",
       "      <td>19814</td>\n",
       "      <td>0</td>\n",
       "      <td>0</td>\n",
       "      <td>0</td>\n",
       "      <td>0.0</td>\n",
       "      <td>3.0</td>\n",
       "      <td>taxable</td>\n",
       "      <td>NaN</td>\n",
       "      <td>2.0</td>\n",
       "      <td>2018-02-09 14:01:05</td>\n",
       "      <td>...</td>\n",
       "      <td>pierre-jean-villa-igp-gamine-2018</td>\n",
       "      <td>2020-01-04 16:36:01</td>\n",
       "      <td>2020-01-04 15:36:01</td>\n",
       "      <td>NaN</td>\n",
       "      <td>0.0</td>\n",
       "      <td>https://www.bottle-neck.fr/?post_type=product&amp;...</td>\n",
       "      <td>0.0</td>\n",
       "      <td>product</td>\n",
       "      <td>NaN</td>\n",
       "      <td>0.0</td>\n",
       "    </tr>\n",
       "  </tbody>\n",
       "</table>\n",
       "<p>5 rows × 28 columns</p>\n",
       "</div>"
      ],
      "text/plain": [
       "                   sku  virtual  downloadable  rating_count  average_rating  \\\n",
       "0  bon-cadeau-25-euros        0             0             0             0.0   \n",
       "1                15298        0             0             0             0.0   \n",
       "2                15296        0             0             0             0.0   \n",
       "3                15300        0             0             0             0.0   \n",
       "4                19814        0             0             0             0.0   \n",
       "\n",
       "   total_sales tax_status  tax_class  post_author            post_date  ...  \\\n",
       "0         10.0    taxable        NaN          1.0  2018-06-01 13:53:46  ...   \n",
       "1          6.0    taxable        NaN          2.0  2018-02-08 12:58:52  ...   \n",
       "2          0.0    taxable        NaN          2.0  2018-02-08 13:49:41  ...   \n",
       "3          0.0    taxable        NaN          2.0  2018-02-08 14:08:36  ...   \n",
       "4          3.0    taxable        NaN          2.0  2018-02-09 14:01:05  ...   \n",
       "\n",
       "                                           post_name        post_modified  \\\n",
       "0                             bon-cadeau-de-25-euros  2018-06-01 14:13:57   \n",
       "1        pierre-jean-villa-saint-joseph-preface-2018  2019-12-30 09:30:29   \n",
       "2          pierre-jean-villa-saint-joseph-tilde-2017  2019-12-21 09:00:17   \n",
       "3  pierre-jean-villa-croze-hermitage-accroche-coe...  2020-06-26 18:15:03   \n",
       "4                  pierre-jean-villa-igp-gamine-2018  2020-01-04 16:36:01   \n",
       "\n",
       "     post_modified_gmt post_content_filtered post_parent  \\\n",
       "0  2018-06-01 12:13:57                   NaN         0.0   \n",
       "1  2019-12-30 08:30:29                   NaN         0.0   \n",
       "2  2019-12-21 08:00:17                   NaN         0.0   \n",
       "3  2020-06-26 16:15:03                   NaN         0.0   \n",
       "4  2020-01-04 15:36:01                   NaN         0.0   \n",
       "\n",
       "                                                guid menu_order  post_type  \\\n",
       "0  https://www.bottle-neck.fr/?post_type=product&...        0.0    product   \n",
       "1  https://www.bottle-neck.fr/?post_type=product&...        0.0    product   \n",
       "2  https://www.bottle-neck.fr/?post_type=product&...        0.0    product   \n",
       "3  https://www.bottle-neck.fr/?post_type=product&...        0.0    product   \n",
       "4  https://www.bottle-neck.fr/?post_type=product&...        0.0    product   \n",
       "\n",
       "  post_mime_type comment_count  \n",
       "0            NaN           0.0  \n",
       "1            NaN           0.0  \n",
       "2            NaN           0.0  \n",
       "3            NaN           0.0  \n",
       "4            NaN           0.0  \n",
       "\n",
       "[5 rows x 28 columns]"
      ]
     },
     "execution_count": 5,
     "metadata": {},
     "output_type": "execute_result"
    }
   ],
   "source": [
    "web.head()"
   ]
  },
  {
   "cell_type": "markdown",
   "id": "83519106",
   "metadata": {},
   "source": [
    "## 6. Vérification des erreurs\n",
    "- Vérifier le type de variable\n",
    "- Vérifier les valeurs manquantes\n",
    "- Vérifer les doublons\n",
    "### 6.1 Table 'erp'"
   ]
  },
  {
   "cell_type": "markdown",
   "id": "74685dcb",
   "metadata": {},
   "source": [
    "#### 6.1a Vérification des types de variables"
   ]
  },
  {
   "cell_type": "code",
   "execution_count": 6,
   "id": "70565f12",
   "metadata": {},
   "outputs": [
    {
     "data": {
      "text/plain": [
       "product_id          int64\n",
       "onsale_web          int64\n",
       "price             float64\n",
       "stock_quantity      int64\n",
       "stock_status       object\n",
       "dtype: object"
      ]
     },
     "execution_count": 6,
     "metadata": {},
     "output_type": "execute_result"
    }
   ],
   "source": [
    "erp.dtypes"
   ]
  },
  {
   "cell_type": "markdown",
   "id": "536cb7f6",
   "metadata": {},
   "source": [
    "#### Colonnes 'product_id et 'onsale_web' de type int64 -> convertion en object"
   ]
  },
  {
   "cell_type": "code",
   "execution_count": 7,
   "id": "5be2188d",
   "metadata": {},
   "outputs": [],
   "source": [
    "erp['product_id'] = erp['product_id'].astype(str)\n",
    "erp['onsale_web'] = erp['onsale_web'].astype(str)"
   ]
  },
  {
   "cell_type": "markdown",
   "id": "102834f2",
   "metadata": {},
   "source": [
    "#### 6.1b Vérification des valeurs manquantes"
   ]
  },
  {
   "cell_type": "code",
   "execution_count": 8,
   "id": "d4637718",
   "metadata": {},
   "outputs": [
    {
     "data": {
      "text/plain": [
       "product_id        0\n",
       "onsale_web        0\n",
       "price             0\n",
       "stock_quantity    0\n",
       "stock_status      0\n",
       "dtype: int64"
      ]
     },
     "execution_count": 8,
     "metadata": {},
     "output_type": "execute_result"
    }
   ],
   "source": [
    "erp.isnull().sum()"
   ]
  },
  {
   "cell_type": "markdown",
   "id": "44ba8a36",
   "metadata": {},
   "source": [
    "#### Aucune valeur manquante"
   ]
  },
  {
   "cell_type": "markdown",
   "id": "c4231c38",
   "metadata": {},
   "source": [
    "#### 6.1c Vérification des doublons"
   ]
  },
  {
   "cell_type": "code",
   "execution_count": 9,
   "id": "6ab79121",
   "metadata": {},
   "outputs": [
    {
     "data": {
      "text/plain": [
       "0"
      ]
     },
     "execution_count": 9,
     "metadata": {},
     "output_type": "execute_result"
    }
   ],
   "source": [
    "erp['product_id'].duplicated(keep=False).sum()"
   ]
  },
  {
   "cell_type": "markdown",
   "id": "7dc1306f",
   "metadata": {},
   "source": [
    "#### Aucun doublon"
   ]
  },
  {
   "cell_type": "markdown",
   "id": "046caaf6",
   "metadata": {},
   "source": [
    "### 6.2 Table 'liaison'"
   ]
  },
  {
   "cell_type": "markdown",
   "id": "52d28654",
   "metadata": {},
   "source": [
    "#### 6.2a Vérification des types de variables"
   ]
  },
  {
   "cell_type": "code",
   "execution_count": 10,
   "id": "e6919058",
   "metadata": {},
   "outputs": [
    {
     "data": {
      "text/plain": [
       "product_id     int64\n",
       "id_web        object\n",
       "dtype: object"
      ]
     },
     "execution_count": 10,
     "metadata": {},
     "output_type": "execute_result"
    }
   ],
   "source": [
    "liaison.dtypes"
   ]
  },
  {
   "cell_type": "markdown",
   "id": "aa7f13d1",
   "metadata": {},
   "source": [
    "#### Colonne 'product_id' de type int64 -> convertion en object"
   ]
  },
  {
   "cell_type": "code",
   "execution_count": 11,
   "id": "dc828ac7",
   "metadata": {},
   "outputs": [],
   "source": [
    "liaison['product_id'] = liaison['product_id'].astype(str)"
   ]
  },
  {
   "cell_type": "markdown",
   "id": "c6be7a4b",
   "metadata": {},
   "source": [
    "#### 6.2b Vérification des valeurs manquantes"
   ]
  },
  {
   "cell_type": "code",
   "execution_count": 12,
   "id": "490c766b",
   "metadata": {},
   "outputs": [
    {
     "data": {
      "text/plain": [
       "product_id     0\n",
       "id_web        91\n",
       "dtype: int64"
      ]
     },
     "execution_count": 12,
     "metadata": {},
     "output_type": "execute_result"
    }
   ],
   "source": [
    "liaison.isnull().sum()"
   ]
  },
  {
   "cell_type": "markdown",
   "id": "31800c0e",
   "metadata": {},
   "source": [
    "#### 91 valeurs manquantes dans la colonne 'id_web'."
   ]
  },
  {
   "cell_type": "markdown",
   "id": "7512376f",
   "metadata": {},
   "source": [
    "#### Stocker ces valeurs dans un dataframe 'liaison_na' et, après jointure des tables 'web' et 'liaison', vérifier si ces lignes correspondent à un 'product_id' de la table 'web'."
   ]
  },
  {
   "cell_type": "code",
   "execution_count": 13,
   "id": "245bd865",
   "metadata": {},
   "outputs": [],
   "source": [
    "liaison_na = liaison.loc[liaison['id_web'].isnull(), :]"
   ]
  },
  {
   "cell_type": "markdown",
   "id": "965bb8cd",
   "metadata": {},
   "source": [
    "#### 6.2c Vérification des doublons"
   ]
  },
  {
   "cell_type": "code",
   "execution_count": 14,
   "id": "891a9a90",
   "metadata": {},
   "outputs": [
    {
     "data": {
      "text/plain": [
       "0"
      ]
     },
     "execution_count": 14,
     "metadata": {},
     "output_type": "execute_result"
    }
   ],
   "source": [
    "liaison['product_id'].duplicated(keep=False).sum()"
   ]
  },
  {
   "cell_type": "markdown",
   "id": "a43fec63",
   "metadata": {},
   "source": [
    "#### Aucun doublon"
   ]
  },
  {
   "cell_type": "markdown",
   "id": "1008bbd2",
   "metadata": {},
   "source": [
    "### 6.3 Table 'web'"
   ]
  },
  {
   "cell_type": "markdown",
   "id": "9c9767c5",
   "metadata": {},
   "source": [
    "#### 6.3a Vérification des types de variable"
   ]
  },
  {
   "cell_type": "code",
   "execution_count": 15,
   "id": "86ac95f4",
   "metadata": {},
   "outputs": [
    {
     "data": {
      "text/plain": [
       "sku                       object\n",
       "virtual                    int64\n",
       "downloadable               int64\n",
       "rating_count               int64\n",
       "average_rating           float64\n",
       "total_sales              float64\n",
       "tax_status                object\n",
       "tax_class                float64\n",
       "post_author              float64\n",
       "post_date                 object\n",
       "post_date_gmt             object\n",
       "post_content             float64\n",
       "post_title                object\n",
       "post_excerpt              object\n",
       "post_status               object\n",
       "comment_status            object\n",
       "ping_status               object\n",
       "post_password            float64\n",
       "post_name                 object\n",
       "post_modified             object\n",
       "post_modified_gmt         object\n",
       "post_content_filtered    float64\n",
       "post_parent              float64\n",
       "guid                      object\n",
       "menu_order               float64\n",
       "post_type                 object\n",
       "post_mime_type            object\n",
       "comment_count            float64\n",
       "dtype: object"
      ]
     },
     "execution_count": 15,
     "metadata": {},
     "output_type": "execute_result"
    }
   ],
   "source": [
    "web.dtypes"
   ]
  },
  {
   "cell_type": "markdown",
   "id": "ce0c812f",
   "metadata": {},
   "source": [
    "#### Dates au format 'object'. Pas de requêtes concernant les dates -> Ignorer"
   ]
  },
  {
   "cell_type": "markdown",
   "id": "f7748066",
   "metadata": {},
   "source": [
    "#### 6.3b Vérification des valeurs manquantes"
   ]
  },
  {
   "cell_type": "code",
   "execution_count": 16,
   "id": "9d6e392a",
   "metadata": {},
   "outputs": [
    {
     "data": {
      "text/plain": [
       "sku               85\n",
       "virtual            0\n",
       "downloadable       0\n",
       "rating_count       0\n",
       "average_rating    83\n",
       "total_sales       83\n",
       "dtype: int64"
      ]
     },
     "execution_count": 16,
     "metadata": {},
     "output_type": "execute_result"
    }
   ],
   "source": [
    "web.isnull().sum().head(6)"
   ]
  },
  {
   "cell_type": "markdown",
   "id": "430f38eb",
   "metadata": {},
   "source": [
    "#### 85 valeurs manquantes dans la colonne 'sku' et 83 valeurs manquantes dans la colonne 'total_sales' -> Lignes à vérifier"
   ]
  },
  {
   "cell_type": "markdown",
   "id": "7902a46b",
   "metadata": {},
   "source": [
    "#### Afficher les lignes dont la valeur 'sku' est manquante et 'total_sales' non manquante"
   ]
  },
  {
   "cell_type": "code",
   "execution_count": 17,
   "id": "727046f9",
   "metadata": {},
   "outputs": [
    {
     "data": {
      "text/html": [
       "<div>\n",
       "<style scoped>\n",
       "    .dataframe tbody tr th:only-of-type {\n",
       "        vertical-align: middle;\n",
       "    }\n",
       "\n",
       "    .dataframe tbody tr th {\n",
       "        vertical-align: top;\n",
       "    }\n",
       "\n",
       "    .dataframe thead th {\n",
       "        text-align: right;\n",
       "    }\n",
       "</style>\n",
       "<table border=\"1\" class=\"dataframe\">\n",
       "  <thead>\n",
       "    <tr style=\"text-align: right;\">\n",
       "      <th></th>\n",
       "      <th>sku</th>\n",
       "      <th>total_sales</th>\n",
       "    </tr>\n",
       "  </thead>\n",
       "  <tbody>\n",
       "    <tr>\n",
       "      <th>470</th>\n",
       "      <td>NaN</td>\n",
       "      <td>0.0</td>\n",
       "    </tr>\n",
       "    <tr>\n",
       "      <th>471</th>\n",
       "      <td>NaN</td>\n",
       "      <td>0.0</td>\n",
       "    </tr>\n",
       "  </tbody>\n",
       "</table>\n",
       "</div>"
      ],
      "text/plain": [
       "     sku  total_sales\n",
       "470  NaN          0.0\n",
       "471  NaN          0.0"
      ]
     },
     "execution_count": 17,
     "metadata": {},
     "output_type": "execute_result"
    }
   ],
   "source": [
    "web.loc[(web['sku'].isnull()) & (web['total_sales'].notnull()), ['sku', 'total_sales']]"
   ]
  },
  {
   "cell_type": "markdown",
   "id": "eee5b3ae",
   "metadata": {},
   "source": [
    "#### Valeur manquante 'sku' -> 'total_sales' manquant ou 0 -> lignes à supprimer"
   ]
  },
  {
   "cell_type": "code",
   "execution_count": 18,
   "id": "b0280fd8",
   "metadata": {},
   "outputs": [],
   "source": [
    "web.drop(web.loc[web['sku'].isnull(), :].index, inplace = True)"
   ]
  },
  {
   "cell_type": "markdown",
   "id": "bea961bd",
   "metadata": {},
   "source": [
    "#### 6.3c Vérification des doublons"
   ]
  },
  {
   "cell_type": "code",
   "execution_count": 19,
   "id": "8e6ff940",
   "metadata": {},
   "outputs": [
    {
     "data": {
      "text/plain": [
       "1428"
      ]
     },
     "execution_count": 19,
     "metadata": {},
     "output_type": "execute_result"
    }
   ],
   "source": [
    "web['sku'].duplicated(keep=False).sum()"
   ]
  },
  {
   "cell_type": "markdown",
   "id": "4a07b4a5",
   "metadata": {},
   "source": [
    "#### 1428 doublons -> afficher le nombre de doublons par valeurs 'sku'"
   ]
  },
  {
   "cell_type": "code",
   "execution_count": 20,
   "id": "6ef1ede4",
   "metadata": {},
   "outputs": [
    {
     "data": {
      "text/plain": [
       "sku\n",
       "10014                  2\n",
       "10459                  2\n",
       "10775                  2\n",
       "10814                  2\n",
       "11049                  2\n",
       "                      ..\n",
       "8463                   2\n",
       "9562                   2\n",
       "9636                   2\n",
       "9937                   2\n",
       "bon-cadeau-25-euros    2\n",
       "Length: 714, dtype: int64"
      ]
     },
     "execution_count": 20,
     "metadata": {},
     "output_type": "execute_result"
    }
   ],
   "source": [
    "web_duplicated = web.pivot_table(index = ['sku'], aggfunc = 'size')\n",
    "web_duplicated"
   ]
  },
  {
   "cell_type": "markdown",
   "id": "ba1a5cf9",
   "metadata": {},
   "source": [
    "#### Chaque valeur 'sku' possède un doublon -> chercher la cause"
   ]
  },
  {
   "cell_type": "markdown",
   "id": "e2b74b3a",
   "metadata": {},
   "source": [
    "#### Comparaison des colonnes d'un doublon"
   ]
  },
  {
   "cell_type": "code",
   "execution_count": 21,
   "id": "fb00a22f",
   "metadata": {},
   "outputs": [
    {
     "data": {
      "text/html": [
       "<div>\n",
       "<style scoped>\n",
       "    .dataframe tbody tr th:only-of-type {\n",
       "        vertical-align: middle;\n",
       "    }\n",
       "\n",
       "    .dataframe tbody tr th {\n",
       "        vertical-align: top;\n",
       "    }\n",
       "\n",
       "    .dataframe thead th {\n",
       "        text-align: right;\n",
       "    }\n",
       "</style>\n",
       "<table border=\"1\" class=\"dataframe\">\n",
       "  <thead>\n",
       "    <tr style=\"text-align: right;\">\n",
       "      <th></th>\n",
       "      <th>sku</th>\n",
       "      <th>virtual</th>\n",
       "      <th>downloadable</th>\n",
       "      <th>rating_count</th>\n",
       "      <th>average_rating</th>\n",
       "      <th>total_sales</th>\n",
       "      <th>tax_status</th>\n",
       "      <th>tax_class</th>\n",
       "      <th>post_author</th>\n",
       "      <th>post_date</th>\n",
       "      <th>...</th>\n",
       "      <th>post_name</th>\n",
       "      <th>post_modified</th>\n",
       "      <th>post_modified_gmt</th>\n",
       "      <th>post_content_filtered</th>\n",
       "      <th>post_parent</th>\n",
       "      <th>guid</th>\n",
       "      <th>menu_order</th>\n",
       "      <th>post_type</th>\n",
       "      <th>post_mime_type</th>\n",
       "      <th>comment_count</th>\n",
       "    </tr>\n",
       "  </thead>\n",
       "  <tbody>\n",
       "    <tr>\n",
       "      <th>628</th>\n",
       "      <td>10014</td>\n",
       "      <td>0</td>\n",
       "      <td>0</td>\n",
       "      <td>0</td>\n",
       "      <td>0.0</td>\n",
       "      <td>0.0</td>\n",
       "      <td>taxable</td>\n",
       "      <td>NaN</td>\n",
       "      <td>2.0</td>\n",
       "      <td>2019-04-04 15:45:23</td>\n",
       "      <td>...</td>\n",
       "      <td>darnleys-london-dry-gin-original</td>\n",
       "      <td>2020-08-26 15:55:02</td>\n",
       "      <td>2020-08-26 13:55:02</td>\n",
       "      <td>NaN</td>\n",
       "      <td>0.0</td>\n",
       "      <td>https://www.bottle-neck.fr/?post_type=product&amp;...</td>\n",
       "      <td>0.0</td>\n",
       "      <td>product</td>\n",
       "      <td>NaN</td>\n",
       "      <td>0.0</td>\n",
       "    </tr>\n",
       "    <tr>\n",
       "      <th>1399</th>\n",
       "      <td>10014</td>\n",
       "      <td>0</td>\n",
       "      <td>0</td>\n",
       "      <td>0</td>\n",
       "      <td>0.0</td>\n",
       "      <td>0.0</td>\n",
       "      <td>NaN</td>\n",
       "      <td>NaN</td>\n",
       "      <td>2.0</td>\n",
       "      <td>2019-04-04 15:45:23</td>\n",
       "      <td>...</td>\n",
       "      <td>darnleys-london-dry-gin-original</td>\n",
       "      <td>2020-08-26 15:55:02</td>\n",
       "      <td>2020-08-26 13:55:02</td>\n",
       "      <td>NaN</td>\n",
       "      <td>0.0</td>\n",
       "      <td>https://www.bottle-neck.fr/wp-content/uploads/...</td>\n",
       "      <td>0.0</td>\n",
       "      <td>attachment</td>\n",
       "      <td>image/jpeg</td>\n",
       "      <td>0.0</td>\n",
       "    </tr>\n",
       "  </tbody>\n",
       "</table>\n",
       "<p>2 rows × 28 columns</p>\n",
       "</div>"
      ],
      "text/plain": [
       "        sku  virtual  downloadable  rating_count  average_rating  total_sales  \\\n",
       "628   10014        0             0             0             0.0          0.0   \n",
       "1399  10014        0             0             0             0.0          0.0   \n",
       "\n",
       "     tax_status  tax_class  post_author            post_date  ...  \\\n",
       "628     taxable        NaN          2.0  2019-04-04 15:45:23  ...   \n",
       "1399        NaN        NaN          2.0  2019-04-04 15:45:23  ...   \n",
       "\n",
       "                             post_name        post_modified  \\\n",
       "628   darnleys-london-dry-gin-original  2020-08-26 15:55:02   \n",
       "1399  darnleys-london-dry-gin-original  2020-08-26 15:55:02   \n",
       "\n",
       "        post_modified_gmt post_content_filtered post_parent  \\\n",
       "628   2020-08-26 13:55:02                   NaN         0.0   \n",
       "1399  2020-08-26 13:55:02                   NaN         0.0   \n",
       "\n",
       "                                                   guid menu_order  \\\n",
       "628   https://www.bottle-neck.fr/?post_type=product&...        0.0   \n",
       "1399  https://www.bottle-neck.fr/wp-content/uploads/...        0.0   \n",
       "\n",
       "       post_type post_mime_type comment_count  \n",
       "628      product            NaN           0.0  \n",
       "1399  attachment     image/jpeg           0.0  \n",
       "\n",
       "[2 rows x 28 columns]"
      ]
     },
     "execution_count": 21,
     "metadata": {},
     "output_type": "execute_result"
    }
   ],
   "source": [
    "web.loc[web['sku'] == '10014']"
   ]
  },
  {
   "cell_type": "markdown",
   "id": "fb906f54",
   "metadata": {},
   "source": [
    "#### -> Colonnes 'tax_status', 'post-type' et 'post_mime_type' différents"
   ]
  },
  {
   "cell_type": "markdown",
   "id": "310942f8",
   "metadata": {},
   "source": [
    "#### Suppression des lignes dont la valeur de 'post_type' est 'attachment'"
   ]
  },
  {
   "cell_type": "code",
   "execution_count": 22,
   "id": "80b0e347",
   "metadata": {},
   "outputs": [],
   "source": [
    "web.drop(web[web['post_type'] == 'attachment'].index, inplace = True)"
   ]
  },
  {
   "cell_type": "markdown",
   "id": "1f446c8d",
   "metadata": {},
   "source": [
    "#### Revérification des doublons"
   ]
  },
  {
   "cell_type": "code",
   "execution_count": 23,
   "id": "7eae6f08",
   "metadata": {},
   "outputs": [
    {
     "data": {
      "text/plain": [
       "0"
      ]
     },
     "execution_count": 23,
     "metadata": {},
     "output_type": "execute_result"
    }
   ],
   "source": [
    "web['sku'].duplicated(keep=False).sum()"
   ]
  },
  {
   "cell_type": "markdown",
   "id": "287dc0a0",
   "metadata": {},
   "source": [
    "#### Aucun doublon"
   ]
  },
  {
   "cell_type": "markdown",
   "id": "ee191757",
   "metadata": {},
   "source": [
    "## 7. Requête 1 : rapprochement des tables\n",
    "### 7.1 Jointure des tables 'web' et 'liaison'"
   ]
  },
  {
   "cell_type": "markdown",
   "id": "b1681d58",
   "metadata": {},
   "source": [
    "#### Renommer 'id_web' en 'sku' dans la table 'liaison' pour faciliter la jointure"
   ]
  },
  {
   "cell_type": "code",
   "execution_count": 24,
   "id": "0ea5f91d",
   "metadata": {},
   "outputs": [],
   "source": [
    "liaison.rename(columns={'id_web':'sku'}, inplace = True)"
   ]
  },
  {
   "cell_type": "markdown",
   "id": "6d326ef7",
   "metadata": {},
   "source": [
    "#### Jointure à gauche des tables 'web' et 'liaison' car on garde toutes les clés de la table 'web'"
   ]
  },
  {
   "cell_type": "code",
   "execution_count": 25,
   "id": "78230313",
   "metadata": {},
   "outputs": [],
   "source": [
    "web = pd.merge(web, liaison, on='sku', how='left', indicator = True)"
   ]
  },
  {
   "cell_type": "markdown",
   "id": "da3d9f4f",
   "metadata": {},
   "source": [
    "#### Déplacement de la colonne 'product_id' en 2ème position dans la table 'web'"
   ]
  },
  {
   "cell_type": "code",
   "execution_count": 26,
   "id": "4c58e115",
   "metadata": {},
   "outputs": [],
   "source": [
    "col = web.pop('product_id')\n",
    "df = web.insert(1, 'product_id', col)"
   ]
  },
  {
   "cell_type": "markdown",
   "id": "82ecb234",
   "metadata": {},
   "source": [
    "#### Aperçu de la table 'web'"
   ]
  },
  {
   "cell_type": "code",
   "execution_count": 27,
   "id": "0dc667c0",
   "metadata": {},
   "outputs": [
    {
     "data": {
      "text/html": [
       "<div>\n",
       "<style scoped>\n",
       "    .dataframe tbody tr th:only-of-type {\n",
       "        vertical-align: middle;\n",
       "    }\n",
       "\n",
       "    .dataframe tbody tr th {\n",
       "        vertical-align: top;\n",
       "    }\n",
       "\n",
       "    .dataframe thead th {\n",
       "        text-align: right;\n",
       "    }\n",
       "</style>\n",
       "<table border=\"1\" class=\"dataframe\">\n",
       "  <thead>\n",
       "    <tr style=\"text-align: right;\">\n",
       "      <th></th>\n",
       "      <th>sku</th>\n",
       "      <th>product_id</th>\n",
       "      <th>virtual</th>\n",
       "      <th>downloadable</th>\n",
       "      <th>rating_count</th>\n",
       "      <th>average_rating</th>\n",
       "      <th>total_sales</th>\n",
       "      <th>tax_status</th>\n",
       "      <th>tax_class</th>\n",
       "      <th>post_author</th>\n",
       "      <th>...</th>\n",
       "      <th>post_modified</th>\n",
       "      <th>post_modified_gmt</th>\n",
       "      <th>post_content_filtered</th>\n",
       "      <th>post_parent</th>\n",
       "      <th>guid</th>\n",
       "      <th>menu_order</th>\n",
       "      <th>post_type</th>\n",
       "      <th>post_mime_type</th>\n",
       "      <th>comment_count</th>\n",
       "      <th>_merge</th>\n",
       "    </tr>\n",
       "  </thead>\n",
       "  <tbody>\n",
       "    <tr>\n",
       "      <th>0</th>\n",
       "      <td>bon-cadeau-25-euros</td>\n",
       "      <td>4954</td>\n",
       "      <td>0</td>\n",
       "      <td>0</td>\n",
       "      <td>0</td>\n",
       "      <td>0.0</td>\n",
       "      <td>10.0</td>\n",
       "      <td>taxable</td>\n",
       "      <td>NaN</td>\n",
       "      <td>1.0</td>\n",
       "      <td>...</td>\n",
       "      <td>2018-06-01 14:13:57</td>\n",
       "      <td>2018-06-01 12:13:57</td>\n",
       "      <td>NaN</td>\n",
       "      <td>0.0</td>\n",
       "      <td>https://www.bottle-neck.fr/?post_type=product&amp;...</td>\n",
       "      <td>0.0</td>\n",
       "      <td>product</td>\n",
       "      <td>NaN</td>\n",
       "      <td>0.0</td>\n",
       "      <td>both</td>\n",
       "    </tr>\n",
       "    <tr>\n",
       "      <th>1</th>\n",
       "      <td>15298</td>\n",
       "      <td>3847</td>\n",
       "      <td>0</td>\n",
       "      <td>0</td>\n",
       "      <td>0</td>\n",
       "      <td>0.0</td>\n",
       "      <td>6.0</td>\n",
       "      <td>taxable</td>\n",
       "      <td>NaN</td>\n",
       "      <td>2.0</td>\n",
       "      <td>...</td>\n",
       "      <td>2019-12-30 09:30:29</td>\n",
       "      <td>2019-12-30 08:30:29</td>\n",
       "      <td>NaN</td>\n",
       "      <td>0.0</td>\n",
       "      <td>https://www.bottle-neck.fr/?post_type=product&amp;...</td>\n",
       "      <td>0.0</td>\n",
       "      <td>product</td>\n",
       "      <td>NaN</td>\n",
       "      <td>0.0</td>\n",
       "      <td>both</td>\n",
       "    </tr>\n",
       "    <tr>\n",
       "      <th>2</th>\n",
       "      <td>15296</td>\n",
       "      <td>3849</td>\n",
       "      <td>0</td>\n",
       "      <td>0</td>\n",
       "      <td>0</td>\n",
       "      <td>0.0</td>\n",
       "      <td>0.0</td>\n",
       "      <td>taxable</td>\n",
       "      <td>NaN</td>\n",
       "      <td>2.0</td>\n",
       "      <td>...</td>\n",
       "      <td>2019-12-21 09:00:17</td>\n",
       "      <td>2019-12-21 08:00:17</td>\n",
       "      <td>NaN</td>\n",
       "      <td>0.0</td>\n",
       "      <td>https://www.bottle-neck.fr/?post_type=product&amp;...</td>\n",
       "      <td>0.0</td>\n",
       "      <td>product</td>\n",
       "      <td>NaN</td>\n",
       "      <td>0.0</td>\n",
       "      <td>both</td>\n",
       "    </tr>\n",
       "    <tr>\n",
       "      <th>3</th>\n",
       "      <td>15300</td>\n",
       "      <td>3850</td>\n",
       "      <td>0</td>\n",
       "      <td>0</td>\n",
       "      <td>0</td>\n",
       "      <td>0.0</td>\n",
       "      <td>0.0</td>\n",
       "      <td>taxable</td>\n",
       "      <td>NaN</td>\n",
       "      <td>2.0</td>\n",
       "      <td>...</td>\n",
       "      <td>2020-06-26 18:15:03</td>\n",
       "      <td>2020-06-26 16:15:03</td>\n",
       "      <td>NaN</td>\n",
       "      <td>0.0</td>\n",
       "      <td>https://www.bottle-neck.fr/?post_type=product&amp;...</td>\n",
       "      <td>0.0</td>\n",
       "      <td>product</td>\n",
       "      <td>NaN</td>\n",
       "      <td>0.0</td>\n",
       "      <td>both</td>\n",
       "    </tr>\n",
       "    <tr>\n",
       "      <th>4</th>\n",
       "      <td>19814</td>\n",
       "      <td>4032</td>\n",
       "      <td>0</td>\n",
       "      <td>0</td>\n",
       "      <td>0</td>\n",
       "      <td>0.0</td>\n",
       "      <td>3.0</td>\n",
       "      <td>taxable</td>\n",
       "      <td>NaN</td>\n",
       "      <td>2.0</td>\n",
       "      <td>...</td>\n",
       "      <td>2020-01-04 16:36:01</td>\n",
       "      <td>2020-01-04 15:36:01</td>\n",
       "      <td>NaN</td>\n",
       "      <td>0.0</td>\n",
       "      <td>https://www.bottle-neck.fr/?post_type=product&amp;...</td>\n",
       "      <td>0.0</td>\n",
       "      <td>product</td>\n",
       "      <td>NaN</td>\n",
       "      <td>0.0</td>\n",
       "      <td>both</td>\n",
       "    </tr>\n",
       "  </tbody>\n",
       "</table>\n",
       "<p>5 rows × 30 columns</p>\n",
       "</div>"
      ],
      "text/plain": [
       "                   sku product_id  virtual  downloadable  rating_count  \\\n",
       "0  bon-cadeau-25-euros       4954        0             0             0   \n",
       "1                15298       3847        0             0             0   \n",
       "2                15296       3849        0             0             0   \n",
       "3                15300       3850        0             0             0   \n",
       "4                19814       4032        0             0             0   \n",
       "\n",
       "   average_rating  total_sales tax_status  tax_class  post_author  ...  \\\n",
       "0             0.0         10.0    taxable        NaN          1.0  ...   \n",
       "1             0.0          6.0    taxable        NaN          2.0  ...   \n",
       "2             0.0          0.0    taxable        NaN          2.0  ...   \n",
       "3             0.0          0.0    taxable        NaN          2.0  ...   \n",
       "4             0.0          3.0    taxable        NaN          2.0  ...   \n",
       "\n",
       "         post_modified    post_modified_gmt  post_content_filtered  \\\n",
       "0  2018-06-01 14:13:57  2018-06-01 12:13:57                    NaN   \n",
       "1  2019-12-30 09:30:29  2019-12-30 08:30:29                    NaN   \n",
       "2  2019-12-21 09:00:17  2019-12-21 08:00:17                    NaN   \n",
       "3  2020-06-26 18:15:03  2020-06-26 16:15:03                    NaN   \n",
       "4  2020-01-04 16:36:01  2020-01-04 15:36:01                    NaN   \n",
       "\n",
       "  post_parent                                               guid menu_order  \\\n",
       "0         0.0  https://www.bottle-neck.fr/?post_type=product&...        0.0   \n",
       "1         0.0  https://www.bottle-neck.fr/?post_type=product&...        0.0   \n",
       "2         0.0  https://www.bottle-neck.fr/?post_type=product&...        0.0   \n",
       "3         0.0  https://www.bottle-neck.fr/?post_type=product&...        0.0   \n",
       "4         0.0  https://www.bottle-neck.fr/?post_type=product&...        0.0   \n",
       "\n",
       "  post_type post_mime_type  comment_count _merge  \n",
       "0   product            NaN            0.0   both  \n",
       "1   product            NaN            0.0   both  \n",
       "2   product            NaN            0.0   both  \n",
       "3   product            NaN            0.0   both  \n",
       "4   product            NaN            0.0   both  \n",
       "\n",
       "[5 rows x 30 columns]"
      ]
     },
     "execution_count": 27,
     "metadata": {},
     "output_type": "execute_result"
    }
   ],
   "source": [
    "web.head()"
   ]
  },
  {
   "cell_type": "markdown",
   "id": "ee4cd460",
   "metadata": {},
   "source": [
    "#### Vérification de la jointure : si aucune valeur différente de 'both' dans la colonne '_merge' = jointure OK"
   ]
  },
  {
   "cell_type": "code",
   "execution_count": 28,
   "id": "12701a7e",
   "metadata": {},
   "outputs": [
    {
     "data": {
      "text/html": [
       "<div>\n",
       "<style scoped>\n",
       "    .dataframe tbody tr th:only-of-type {\n",
       "        vertical-align: middle;\n",
       "    }\n",
       "\n",
       "    .dataframe tbody tr th {\n",
       "        vertical-align: top;\n",
       "    }\n",
       "\n",
       "    .dataframe thead th {\n",
       "        text-align: right;\n",
       "    }\n",
       "</style>\n",
       "<table border=\"1\" class=\"dataframe\">\n",
       "  <thead>\n",
       "    <tr style=\"text-align: right;\">\n",
       "      <th></th>\n",
       "      <th>sku</th>\n",
       "      <th>product_id</th>\n",
       "      <th>virtual</th>\n",
       "      <th>downloadable</th>\n",
       "      <th>rating_count</th>\n",
       "      <th>average_rating</th>\n",
       "      <th>total_sales</th>\n",
       "      <th>tax_status</th>\n",
       "      <th>tax_class</th>\n",
       "      <th>post_author</th>\n",
       "      <th>...</th>\n",
       "      <th>post_modified</th>\n",
       "      <th>post_modified_gmt</th>\n",
       "      <th>post_content_filtered</th>\n",
       "      <th>post_parent</th>\n",
       "      <th>guid</th>\n",
       "      <th>menu_order</th>\n",
       "      <th>post_type</th>\n",
       "      <th>post_mime_type</th>\n",
       "      <th>comment_count</th>\n",
       "      <th>_merge</th>\n",
       "    </tr>\n",
       "  </thead>\n",
       "  <tbody>\n",
       "  </tbody>\n",
       "</table>\n",
       "<p>0 rows × 30 columns</p>\n",
       "</div>"
      ],
      "text/plain": [
       "Empty DataFrame\n",
       "Columns: [sku, product_id, virtual, downloadable, rating_count, average_rating, total_sales, tax_status, tax_class, post_author, post_date, post_date_gmt, post_content, post_title, post_excerpt, post_status, comment_status, ping_status, post_password, post_name, post_modified, post_modified_gmt, post_content_filtered, post_parent, guid, menu_order, post_type, post_mime_type, comment_count, _merge]\n",
       "Index: []\n",
       "\n",
       "[0 rows x 30 columns]"
      ]
     },
     "execution_count": 28,
     "metadata": {},
     "output_type": "execute_result"
    }
   ],
   "source": [
    "web.loc[web['_merge'] != 'both']"
   ]
  },
  {
   "cell_type": "markdown",
   "id": "2bbbb8b8",
   "metadata": {},
   "source": [
    "#### Pas d'erreurs dans la jointure"
   ]
  },
  {
   "cell_type": "markdown",
   "id": "822a81fd",
   "metadata": {},
   "source": [
    "#### Valeurs manquantes dans la table 'liaison' : vérifier si les valeurs de la colonne 'product_id' de la table 'liaison_na' correspondent à une valeur 'product_id' de la table 'web'."
   ]
  },
  {
   "cell_type": "markdown",
   "id": "16438672",
   "metadata": {},
   "source": [
    "#### Création un dataframe des correspondances des valeurs manquantes"
   ]
  },
  {
   "cell_type": "code",
   "execution_count": 29,
   "id": "3205043c",
   "metadata": {},
   "outputs": [
    {
     "data": {
      "text/html": [
       "<div>\n",
       "<style scoped>\n",
       "    .dataframe tbody tr th:only-of-type {\n",
       "        vertical-align: middle;\n",
       "    }\n",
       "\n",
       "    .dataframe tbody tr th {\n",
       "        vertical-align: top;\n",
       "    }\n",
       "\n",
       "    .dataframe thead th {\n",
       "        text-align: right;\n",
       "    }\n",
       "</style>\n",
       "<table border=\"1\" class=\"dataframe\">\n",
       "  <thead>\n",
       "    <tr style=\"text-align: right;\">\n",
       "      <th></th>\n",
       "      <th>product_id</th>\n",
       "      <th>id_web</th>\n",
       "      <th>InWeb</th>\n",
       "    </tr>\n",
       "  </thead>\n",
       "  <tbody>\n",
       "    <tr>\n",
       "      <th>19</th>\n",
       "      <td>4055</td>\n",
       "      <td>NaN</td>\n",
       "      <td>False</td>\n",
       "    </tr>\n",
       "    <tr>\n",
       "      <th>49</th>\n",
       "      <td>4090</td>\n",
       "      <td>NaN</td>\n",
       "      <td>False</td>\n",
       "    </tr>\n",
       "    <tr>\n",
       "      <th>50</th>\n",
       "      <td>4092</td>\n",
       "      <td>NaN</td>\n",
       "      <td>False</td>\n",
       "    </tr>\n",
       "    <tr>\n",
       "      <th>119</th>\n",
       "      <td>4195</td>\n",
       "      <td>NaN</td>\n",
       "      <td>False</td>\n",
       "    </tr>\n",
       "    <tr>\n",
       "      <th>131</th>\n",
       "      <td>4209</td>\n",
       "      <td>NaN</td>\n",
       "      <td>False</td>\n",
       "    </tr>\n",
       "  </tbody>\n",
       "</table>\n",
       "</div>"
      ],
      "text/plain": [
       "    product_id id_web  InWeb\n",
       "19        4055    NaN  False\n",
       "49        4090    NaN  False\n",
       "50        4092    NaN  False\n",
       "119       4195    NaN  False\n",
       "131       4209    NaN  False"
      ]
     },
     "execution_count": 29,
     "metadata": {},
     "output_type": "execute_result"
    }
   ],
   "source": [
    "na_corresp = liaison_na.assign(InWeb = liaison_na.product_id.isin(web.product_id).astype(str))\n",
    "na_corresp.head()"
   ]
  },
  {
   "cell_type": "markdown",
   "id": "7f3f4666",
   "metadata": {},
   "source": [
    "#### Afficher les correspondances"
   ]
  },
  {
   "cell_type": "code",
   "execution_count": 30,
   "id": "45a3e8a6",
   "metadata": {},
   "outputs": [
    {
     "data": {
      "text/html": [
       "<div>\n",
       "<style scoped>\n",
       "    .dataframe tbody tr th:only-of-type {\n",
       "        vertical-align: middle;\n",
       "    }\n",
       "\n",
       "    .dataframe tbody tr th {\n",
       "        vertical-align: top;\n",
       "    }\n",
       "\n",
       "    .dataframe thead th {\n",
       "        text-align: right;\n",
       "    }\n",
       "</style>\n",
       "<table border=\"1\" class=\"dataframe\">\n",
       "  <thead>\n",
       "    <tr style=\"text-align: right;\">\n",
       "      <th></th>\n",
       "      <th>product_id</th>\n",
       "      <th>id_web</th>\n",
       "      <th>InWeb</th>\n",
       "    </tr>\n",
       "  </thead>\n",
       "  <tbody>\n",
       "  </tbody>\n",
       "</table>\n",
       "</div>"
      ],
      "text/plain": [
       "Empty DataFrame\n",
       "Columns: [product_id, id_web, InWeb]\n",
       "Index: []"
      ]
     },
     "execution_count": 30,
     "metadata": {},
     "output_type": "execute_result"
    }
   ],
   "source": [
    "na_corresp.loc[na_corresp['InWeb'] == 'True']"
   ]
  },
  {
   "cell_type": "markdown",
   "id": "41b9d93d",
   "metadata": {},
   "source": [
    "#### Aucune correspondance -> Valeurs 'id_web' nulles car produits non commercialisés en ligne"
   ]
  },
  {
   "cell_type": "markdown",
   "id": "ba3ddc3f",
   "metadata": {},
   "source": [
    "### 7.2 Jointure des tables 'web' et 'erp'"
   ]
  },
  {
   "cell_type": "markdown",
   "id": "5ae64496",
   "metadata": {},
   "source": [
    "#### Jointure à gauche car on garde toutes les clés de la table 'web'"
   ]
  },
  {
   "cell_type": "code",
   "execution_count": 31,
   "id": "4d95c204",
   "metadata": {},
   "outputs": [],
   "source": [
    "web = pd.merge(web, erp, on='product_id', how = 'left')"
   ]
  },
  {
   "cell_type": "markdown",
   "id": "f42c2b54",
   "metadata": {},
   "source": [
    "#### Déplacement des colonnes 'onsale_web', 'price', 'stock_quantity' et 'stock_status' en 3, 4, 5 et 6ème position dans la table 'web'"
   ]
  },
  {
   "cell_type": "code",
   "execution_count": 32,
   "id": "c14aeaa5",
   "metadata": {},
   "outputs": [],
   "source": [
    "col_1 = web.pop('onsale_web')\n",
    "df = web.insert(2, 'onsale_web', col_1)\n",
    "col_2 = web.pop('price')\n",
    "df = web.insert(3, 'price', col_2)\n",
    "col_3 = web.pop('stock_quantity')\n",
    "df = web.insert(4, 'stock_quantity', col_3)\n",
    "col_4 = web.pop('stock_status')\n",
    "df = web.insert(5, 'stock_status', col_4)"
   ]
  },
  {
   "cell_type": "markdown",
   "id": "8435bcd4",
   "metadata": {},
   "source": [
    "#### Aperçu de la table 'web'"
   ]
  },
  {
   "cell_type": "code",
   "execution_count": 33,
   "id": "e0583170",
   "metadata": {},
   "outputs": [
    {
     "data": {
      "text/html": [
       "<div>\n",
       "<style scoped>\n",
       "    .dataframe tbody tr th:only-of-type {\n",
       "        vertical-align: middle;\n",
       "    }\n",
       "\n",
       "    .dataframe tbody tr th {\n",
       "        vertical-align: top;\n",
       "    }\n",
       "\n",
       "    .dataframe thead th {\n",
       "        text-align: right;\n",
       "    }\n",
       "</style>\n",
       "<table border=\"1\" class=\"dataframe\">\n",
       "  <thead>\n",
       "    <tr style=\"text-align: right;\">\n",
       "      <th></th>\n",
       "      <th>sku</th>\n",
       "      <th>product_id</th>\n",
       "      <th>onsale_web</th>\n",
       "      <th>price</th>\n",
       "      <th>stock_quantity</th>\n",
       "      <th>stock_status</th>\n",
       "      <th>virtual</th>\n",
       "      <th>downloadable</th>\n",
       "      <th>rating_count</th>\n",
       "      <th>average_rating</th>\n",
       "      <th>...</th>\n",
       "      <th>post_modified</th>\n",
       "      <th>post_modified_gmt</th>\n",
       "      <th>post_content_filtered</th>\n",
       "      <th>post_parent</th>\n",
       "      <th>guid</th>\n",
       "      <th>menu_order</th>\n",
       "      <th>post_type</th>\n",
       "      <th>post_mime_type</th>\n",
       "      <th>comment_count</th>\n",
       "      <th>_merge</th>\n",
       "    </tr>\n",
       "  </thead>\n",
       "  <tbody>\n",
       "    <tr>\n",
       "      <th>0</th>\n",
       "      <td>bon-cadeau-25-euros</td>\n",
       "      <td>4954</td>\n",
       "      <td>1</td>\n",
       "      <td>25.0</td>\n",
       "      <td>0</td>\n",
       "      <td>instock</td>\n",
       "      <td>0</td>\n",
       "      <td>0</td>\n",
       "      <td>0</td>\n",
       "      <td>0.0</td>\n",
       "      <td>...</td>\n",
       "      <td>2018-06-01 14:13:57</td>\n",
       "      <td>2018-06-01 12:13:57</td>\n",
       "      <td>NaN</td>\n",
       "      <td>0.0</td>\n",
       "      <td>https://www.bottle-neck.fr/?post_type=product&amp;...</td>\n",
       "      <td>0.0</td>\n",
       "      <td>product</td>\n",
       "      <td>NaN</td>\n",
       "      <td>0.0</td>\n",
       "      <td>both</td>\n",
       "    </tr>\n",
       "    <tr>\n",
       "      <th>1</th>\n",
       "      <td>15298</td>\n",
       "      <td>3847</td>\n",
       "      <td>1</td>\n",
       "      <td>24.2</td>\n",
       "      <td>0</td>\n",
       "      <td>outofstock</td>\n",
       "      <td>0</td>\n",
       "      <td>0</td>\n",
       "      <td>0</td>\n",
       "      <td>0.0</td>\n",
       "      <td>...</td>\n",
       "      <td>2019-12-30 09:30:29</td>\n",
       "      <td>2019-12-30 08:30:29</td>\n",
       "      <td>NaN</td>\n",
       "      <td>0.0</td>\n",
       "      <td>https://www.bottle-neck.fr/?post_type=product&amp;...</td>\n",
       "      <td>0.0</td>\n",
       "      <td>product</td>\n",
       "      <td>NaN</td>\n",
       "      <td>0.0</td>\n",
       "      <td>both</td>\n",
       "    </tr>\n",
       "    <tr>\n",
       "      <th>2</th>\n",
       "      <td>15296</td>\n",
       "      <td>3849</td>\n",
       "      <td>1</td>\n",
       "      <td>34.3</td>\n",
       "      <td>0</td>\n",
       "      <td>outofstock</td>\n",
       "      <td>0</td>\n",
       "      <td>0</td>\n",
       "      <td>0</td>\n",
       "      <td>0.0</td>\n",
       "      <td>...</td>\n",
       "      <td>2019-12-21 09:00:17</td>\n",
       "      <td>2019-12-21 08:00:17</td>\n",
       "      <td>NaN</td>\n",
       "      <td>0.0</td>\n",
       "      <td>https://www.bottle-neck.fr/?post_type=product&amp;...</td>\n",
       "      <td>0.0</td>\n",
       "      <td>product</td>\n",
       "      <td>NaN</td>\n",
       "      <td>0.0</td>\n",
       "      <td>both</td>\n",
       "    </tr>\n",
       "    <tr>\n",
       "      <th>3</th>\n",
       "      <td>15300</td>\n",
       "      <td>3850</td>\n",
       "      <td>1</td>\n",
       "      <td>20.8</td>\n",
       "      <td>0</td>\n",
       "      <td>outofstock</td>\n",
       "      <td>0</td>\n",
       "      <td>0</td>\n",
       "      <td>0</td>\n",
       "      <td>0.0</td>\n",
       "      <td>...</td>\n",
       "      <td>2020-06-26 18:15:03</td>\n",
       "      <td>2020-06-26 16:15:03</td>\n",
       "      <td>NaN</td>\n",
       "      <td>0.0</td>\n",
       "      <td>https://www.bottle-neck.fr/?post_type=product&amp;...</td>\n",
       "      <td>0.0</td>\n",
       "      <td>product</td>\n",
       "      <td>NaN</td>\n",
       "      <td>0.0</td>\n",
       "      <td>both</td>\n",
       "    </tr>\n",
       "    <tr>\n",
       "      <th>4</th>\n",
       "      <td>19814</td>\n",
       "      <td>4032</td>\n",
       "      <td>1</td>\n",
       "      <td>14.1</td>\n",
       "      <td>0</td>\n",
       "      <td>outofstock</td>\n",
       "      <td>0</td>\n",
       "      <td>0</td>\n",
       "      <td>0</td>\n",
       "      <td>0.0</td>\n",
       "      <td>...</td>\n",
       "      <td>2020-01-04 16:36:01</td>\n",
       "      <td>2020-01-04 15:36:01</td>\n",
       "      <td>NaN</td>\n",
       "      <td>0.0</td>\n",
       "      <td>https://www.bottle-neck.fr/?post_type=product&amp;...</td>\n",
       "      <td>0.0</td>\n",
       "      <td>product</td>\n",
       "      <td>NaN</td>\n",
       "      <td>0.0</td>\n",
       "      <td>both</td>\n",
       "    </tr>\n",
       "  </tbody>\n",
       "</table>\n",
       "<p>5 rows × 34 columns</p>\n",
       "</div>"
      ],
      "text/plain": [
       "                   sku product_id onsale_web  price  stock_quantity  \\\n",
       "0  bon-cadeau-25-euros       4954          1   25.0               0   \n",
       "1                15298       3847          1   24.2               0   \n",
       "2                15296       3849          1   34.3               0   \n",
       "3                15300       3850          1   20.8               0   \n",
       "4                19814       4032          1   14.1               0   \n",
       "\n",
       "  stock_status  virtual  downloadable  rating_count  average_rating  ...  \\\n",
       "0      instock        0             0             0             0.0  ...   \n",
       "1   outofstock        0             0             0             0.0  ...   \n",
       "2   outofstock        0             0             0             0.0  ...   \n",
       "3   outofstock        0             0             0             0.0  ...   \n",
       "4   outofstock        0             0             0             0.0  ...   \n",
       "\n",
       "         post_modified    post_modified_gmt  post_content_filtered  \\\n",
       "0  2018-06-01 14:13:57  2018-06-01 12:13:57                    NaN   \n",
       "1  2019-12-30 09:30:29  2019-12-30 08:30:29                    NaN   \n",
       "2  2019-12-21 09:00:17  2019-12-21 08:00:17                    NaN   \n",
       "3  2020-06-26 18:15:03  2020-06-26 16:15:03                    NaN   \n",
       "4  2020-01-04 16:36:01  2020-01-04 15:36:01                    NaN   \n",
       "\n",
       "   post_parent                                               guid menu_order  \\\n",
       "0          0.0  https://www.bottle-neck.fr/?post_type=product&...        0.0   \n",
       "1          0.0  https://www.bottle-neck.fr/?post_type=product&...        0.0   \n",
       "2          0.0  https://www.bottle-neck.fr/?post_type=product&...        0.0   \n",
       "3          0.0  https://www.bottle-neck.fr/?post_type=product&...        0.0   \n",
       "4          0.0  https://www.bottle-neck.fr/?post_type=product&...        0.0   \n",
       "\n",
       "   post_type post_mime_type comment_count _merge  \n",
       "0    product            NaN           0.0   both  \n",
       "1    product            NaN           0.0   both  \n",
       "2    product            NaN           0.0   both  \n",
       "3    product            NaN           0.0   both  \n",
       "4    product            NaN           0.0   both  \n",
       "\n",
       "[5 rows x 34 columns]"
      ]
     },
     "execution_count": 33,
     "metadata": {},
     "output_type": "execute_result"
    }
   ],
   "source": [
    "web.head()"
   ]
  },
  {
   "cell_type": "markdown",
   "id": "994c0b45",
   "metadata": {},
   "source": [
    "#### Vérification de la jointure : si aucune valeur différente de 'both' dans la colonne '_merge' = jointure OK"
   ]
  },
  {
   "cell_type": "code",
   "execution_count": 34,
   "id": "0ef63d3b",
   "metadata": {},
   "outputs": [
    {
     "data": {
      "text/html": [
       "<div>\n",
       "<style scoped>\n",
       "    .dataframe tbody tr th:only-of-type {\n",
       "        vertical-align: middle;\n",
       "    }\n",
       "\n",
       "    .dataframe tbody tr th {\n",
       "        vertical-align: top;\n",
       "    }\n",
       "\n",
       "    .dataframe thead th {\n",
       "        text-align: right;\n",
       "    }\n",
       "</style>\n",
       "<table border=\"1\" class=\"dataframe\">\n",
       "  <thead>\n",
       "    <tr style=\"text-align: right;\">\n",
       "      <th></th>\n",
       "      <th>sku</th>\n",
       "      <th>product_id</th>\n",
       "      <th>onsale_web</th>\n",
       "      <th>price</th>\n",
       "      <th>stock_quantity</th>\n",
       "      <th>stock_status</th>\n",
       "      <th>virtual</th>\n",
       "      <th>downloadable</th>\n",
       "      <th>rating_count</th>\n",
       "      <th>average_rating</th>\n",
       "      <th>...</th>\n",
       "      <th>post_modified</th>\n",
       "      <th>post_modified_gmt</th>\n",
       "      <th>post_content_filtered</th>\n",
       "      <th>post_parent</th>\n",
       "      <th>guid</th>\n",
       "      <th>menu_order</th>\n",
       "      <th>post_type</th>\n",
       "      <th>post_mime_type</th>\n",
       "      <th>comment_count</th>\n",
       "      <th>_merge</th>\n",
       "    </tr>\n",
       "  </thead>\n",
       "  <tbody>\n",
       "  </tbody>\n",
       "</table>\n",
       "<p>0 rows × 34 columns</p>\n",
       "</div>"
      ],
      "text/plain": [
       "Empty DataFrame\n",
       "Columns: [sku, product_id, onsale_web, price, stock_quantity, stock_status, virtual, downloadable, rating_count, average_rating, total_sales, tax_status, tax_class, post_author, post_date, post_date_gmt, post_content, post_title, post_excerpt, post_status, comment_status, ping_status, post_password, post_name, post_modified, post_modified_gmt, post_content_filtered, post_parent, guid, menu_order, post_type, post_mime_type, comment_count, _merge]\n",
       "Index: []\n",
       "\n",
       "[0 rows x 34 columns]"
      ]
     },
     "execution_count": 34,
     "metadata": {},
     "output_type": "execute_result"
    }
   ],
   "source": [
    "web.loc[web['_merge'] != 'both']"
   ]
  },
  {
   "cell_type": "markdown",
   "id": "2f3c54a8",
   "metadata": {},
   "source": [
    "#### Pas d'erreurs dans la jointure"
   ]
  },
  {
   "cell_type": "markdown",
   "id": "d3e736d4",
   "metadata": {},
   "source": [
    "## 8. Requête 2 : Chiffre d'affaires\n",
    "### 8.1 Chiffre d'affaires par produit"
   ]
  },
  {
   "cell_type": "markdown",
   "id": "926f3009",
   "metadata": {},
   "source": [
    "#### Création de la variable 'montant' (='price' x 'total_sales') dans la table 'web'"
   ]
  },
  {
   "cell_type": "code",
   "execution_count": 35,
   "id": "9e49696d",
   "metadata": {},
   "outputs": [],
   "source": [
    "web['montant'] = web['price'] * web['total_sales']"
   ]
  },
  {
   "cell_type": "markdown",
   "id": "fba44134",
   "metadata": {},
   "source": [
    "#### Agrégation de la variable 'product_id' en additionnant les valeurs de la colonne 'montant'"
   ]
  },
  {
   "cell_type": "code",
   "execution_count": 36,
   "id": "fdc19aa9",
   "metadata": {},
   "outputs": [],
   "source": [
    "CA_df = web.groupby(['product_id', 'post_title', 'price', 'onsale_web'])[['montant']].sum()"
   ]
  },
  {
   "cell_type": "markdown",
   "id": "0cfecfa8",
   "metadata": {},
   "source": [
    "#### Réinitialisation de l'index"
   ]
  },
  {
   "cell_type": "code",
   "execution_count": 37,
   "id": "cf5e3493",
   "metadata": {},
   "outputs": [],
   "source": [
    "CA_df.reset_index(inplace=True)"
   ]
  },
  {
   "cell_type": "markdown",
   "id": "bcba8772",
   "metadata": {},
   "source": [
    "#### Vérification du nombre d'individus"
   ]
  },
  {
   "cell_type": "code",
   "execution_count": 38,
   "id": "f3ff73c5",
   "metadata": {},
   "outputs": [
    {
     "data": {
      "text/plain": [
       "(714, 5)"
      ]
     },
     "execution_count": 38,
     "metadata": {},
     "output_type": "execute_result"
    }
   ],
   "source": [
    "CA_df.shape"
   ]
  },
  {
   "cell_type": "markdown",
   "id": "4bc40aad",
   "metadata": {},
   "source": [
    "#### Renommer la colonne 'montant' par 'CA'"
   ]
  },
  {
   "cell_type": "code",
   "execution_count": 39,
   "id": "1bd2aaa4",
   "metadata": {},
   "outputs": [],
   "source": [
    "CA_df.rename(columns={'montant' : 'CA'}, inplace = True)"
   ]
  },
  {
   "cell_type": "markdown",
   "id": "fb8fa267",
   "metadata": {},
   "source": [
    "#### Aperçu de la table 'CA_df'"
   ]
  },
  {
   "cell_type": "code",
   "execution_count": 40,
   "id": "7ee127ac",
   "metadata": {},
   "outputs": [
    {
     "data": {
      "text/html": [
       "<div>\n",
       "<style scoped>\n",
       "    .dataframe tbody tr th:only-of-type {\n",
       "        vertical-align: middle;\n",
       "    }\n",
       "\n",
       "    .dataframe tbody tr th {\n",
       "        vertical-align: top;\n",
       "    }\n",
       "\n",
       "    .dataframe thead th {\n",
       "        text-align: right;\n",
       "    }\n",
       "</style>\n",
       "<table border=\"1\" class=\"dataframe\">\n",
       "  <thead>\n",
       "    <tr style=\"text-align: right;\">\n",
       "      <th></th>\n",
       "      <th>product_id</th>\n",
       "      <th>post_title</th>\n",
       "      <th>price</th>\n",
       "      <th>onsale_web</th>\n",
       "      <th>CA</th>\n",
       "    </tr>\n",
       "  </thead>\n",
       "  <tbody>\n",
       "    <tr>\n",
       "      <th>0</th>\n",
       "      <td>3847</td>\n",
       "      <td>Pierre Jean Villa Saint-Joseph Préface 2018</td>\n",
       "      <td>24.2</td>\n",
       "      <td>1</td>\n",
       "      <td>145.2</td>\n",
       "    </tr>\n",
       "    <tr>\n",
       "      <th>1</th>\n",
       "      <td>3849</td>\n",
       "      <td>Pierre Jean Villa Saint-Joseph Rouge Tildé 2017</td>\n",
       "      <td>34.3</td>\n",
       "      <td>1</td>\n",
       "      <td>0.0</td>\n",
       "    </tr>\n",
       "    <tr>\n",
       "      <th>2</th>\n",
       "      <td>3850</td>\n",
       "      <td>Pierre Jean Villa Crozes-Hermitage Accroche Co...</td>\n",
       "      <td>20.8</td>\n",
       "      <td>1</td>\n",
       "      <td>0.0</td>\n",
       "    </tr>\n",
       "    <tr>\n",
       "      <th>3</th>\n",
       "      <td>4032</td>\n",
       "      <td>Pierre Jean Villa IGP Collines Rhodaniennes Ga...</td>\n",
       "      <td>14.1</td>\n",
       "      <td>1</td>\n",
       "      <td>42.3</td>\n",
       "    </tr>\n",
       "    <tr>\n",
       "      <th>4</th>\n",
       "      <td>4039</td>\n",
       "      <td>Pierre Jean Villa Côte Rôtie Carmina 2017</td>\n",
       "      <td>46.0</td>\n",
       "      <td>1</td>\n",
       "      <td>0.0</td>\n",
       "    </tr>\n",
       "  </tbody>\n",
       "</table>\n",
       "</div>"
      ],
      "text/plain": [
       "  product_id                                         post_title  price  \\\n",
       "0       3847        Pierre Jean Villa Saint-Joseph Préface 2018   24.2   \n",
       "1       3849    Pierre Jean Villa Saint-Joseph Rouge Tildé 2017   34.3   \n",
       "2       3850  Pierre Jean Villa Crozes-Hermitage Accroche Co...   20.8   \n",
       "3       4032  Pierre Jean Villa IGP Collines Rhodaniennes Ga...   14.1   \n",
       "4       4039          Pierre Jean Villa Côte Rôtie Carmina 2017   46.0   \n",
       "\n",
       "  onsale_web     CA  \n",
       "0          1  145.2  \n",
       "1          1    0.0  \n",
       "2          1    0.0  \n",
       "3          1   42.3  \n",
       "4          1    0.0  "
      ]
     },
     "execution_count": 40,
     "metadata": {},
     "output_type": "execute_result"
    }
   ],
   "source": [
    "CA_df.head()"
   ]
  },
  {
   "cell_type": "markdown",
   "id": "a41b15be",
   "metadata": {},
   "source": [
    "#### Représentation graphique"
   ]
  },
  {
   "cell_type": "code",
   "execution_count": 41,
   "id": "9b079813",
   "metadata": {},
   "outputs": [
    {
     "data": {
      "image/png": "[encoded data removed]",
      "text/plain": [
       "<Figure size 1080x432 with 1 Axes>"
      ]
     },
     "metadata": {
      "needs_background": "light"
     },
     "output_type": "display_data"
    }
   ],
   "source": [
    "plt.figure(figsize=(15,6))\n",
    "plt.rcParams.update({'font.size': 14})\n",
    "sns.set_palette('Set2')\n",
    "CA_hist = sns.barplot(data=CA_df, x = 'product_id', y = 'CA')\n",
    "CA_hist.set(xticklabels=[])\n",
    "CA_hist.tick_params(bottom=False)\n",
    "CA_hist.set(xlabel='Produit')\n",
    "plt.title(\"Chiffre d'affaires par produit\")\n",
    "plt.grid(axis='y')"
   ]
  },
  {
   "cell_type": "code",
   "execution_count": 42,
   "id": "2914fd77",
   "metadata": {},
   "outputs": [
    {
     "data": {
      "image/png": "[encoded data removed]",
      "text/plain": [
       "<Figure size 1080x432 with 1 Axes>"
      ]
     },
     "metadata": {
      "needs_background": "light"
     },
     "output_type": "display_data"
    }
   ],
   "source": [
    "plt.figure(figsize=(15,6))\n",
    "plt.rcParams.update({'font.size': 14})\n",
    "sns.set_palette('Set2')\n",
    "CA_hist = sns.histplot(data=CA_df, x = 'CA', bins = 100)\n",
    "CA_hist.set(xlabel=\"Chiffre d'affaires\")\n",
    "CA_hist.set(ylabel=\"Effectif\")\n",
    "CA_hist.set_xticks([0, 250, 500, 750, 1000, 1250, 1500, 1750, 2000, 2250, 2500, 2750, 3000, 3250, 3500, 3750, 4000, 4250, 4500, 4750, 5000])\n",
    "CA_hist.set_yticks([0, 50, 100, 150, 200, 250, 300, 350, 400, 450, 500]) \n",
    "plt.xticks(rotation=45)\n",
    "plt.title(\"Effectif par chiffre d'affaires\")\n",
    "plt.grid(axis='y')"
   ]
  },
  {
   "cell_type": "markdown",
   "id": "49ba6771",
   "metadata": {},
   "source": [
    "#### La majorité des produits (65%) ont un chiffre d'affaires situé entre 0 et 50 euros."
   ]
  },
  {
   "cell_type": "markdown",
   "id": "227739ee",
   "metadata": {},
   "source": [
    "#### Afficher les 10 CA les plus élevés"
   ]
  },
  {
   "cell_type": "code",
   "execution_count": 43,
   "id": "2f848df0",
   "metadata": {},
   "outputs": [
    {
     "data": {
      "text/html": [
       "<div>\n",
       "<style scoped>\n",
       "    .dataframe tbody tr th:only-of-type {\n",
       "        vertical-align: middle;\n",
       "    }\n",
       "\n",
       "    .dataframe tbody tr th {\n",
       "        vertical-align: top;\n",
       "    }\n",
       "\n",
       "    .dataframe thead th {\n",
       "        text-align: right;\n",
       "    }\n",
       "</style>\n",
       "<table border=\"1\" class=\"dataframe\">\n",
       "  <thead>\n",
       "    <tr style=\"text-align: right;\">\n",
       "      <th></th>\n",
       "      <th>product_id</th>\n",
       "      <th>post_title</th>\n",
       "      <th>price</th>\n",
       "      <th>onsale_web</th>\n",
       "      <th>CA</th>\n",
       "    </tr>\n",
       "  </thead>\n",
       "  <tbody>\n",
       "    <tr>\n",
       "      <th>194</th>\n",
       "      <td>4334</td>\n",
       "      <td>Champagne Gosset Grand Blanc de Blancs</td>\n",
       "      <td>49.0</td>\n",
       "      <td>1</td>\n",
       "      <td>4704.0</td>\n",
       "    </tr>\n",
       "    <tr>\n",
       "      <th>71</th>\n",
       "      <td>4144</td>\n",
       "      <td>Champagne Gosset Grand Rosé</td>\n",
       "      <td>49.0</td>\n",
       "      <td>1</td>\n",
       "      <td>4263.0</td>\n",
       "    </tr>\n",
       "    <tr>\n",
       "      <th>218</th>\n",
       "      <td>4402</td>\n",
       "      <td>Cognac Frapin VIP XO</td>\n",
       "      <td>176.0</td>\n",
       "      <td>1</td>\n",
       "      <td>2288.0</td>\n",
       "    </tr>\n",
       "    <tr>\n",
       "      <th>70</th>\n",
       "      <td>4142</td>\n",
       "      <td>Champagne Gosset Grand Millésime 2006</td>\n",
       "      <td>53.0</td>\n",
       "      <td>1</td>\n",
       "      <td>1590.0</td>\n",
       "    </tr>\n",
       "    <tr>\n",
       "      <th>69</th>\n",
       "      <td>4141</td>\n",
       "      <td>Champagne Gosset Grande Réserve</td>\n",
       "      <td>39.0</td>\n",
       "      <td>1</td>\n",
       "      <td>1560.0</td>\n",
       "    </tr>\n",
       "    <tr>\n",
       "      <th>201</th>\n",
       "      <td>4355</td>\n",
       "      <td>Champagne Egly-Ouriet Grand Cru Blanc de Noirs</td>\n",
       "      <td>126.5</td>\n",
       "      <td>1</td>\n",
       "      <td>1391.5</td>\n",
       "    </tr>\n",
       "    <tr>\n",
       "      <th>199</th>\n",
       "      <td>4352</td>\n",
       "      <td>Champagne Egly-Ouriet Grand Cru Millésimé 2008</td>\n",
       "      <td>225.0</td>\n",
       "      <td>1</td>\n",
       "      <td>1125.0</td>\n",
       "    </tr>\n",
       "    <tr>\n",
       "      <th>79</th>\n",
       "      <td>4153</td>\n",
       "      <td>Elian Daros Côtes du Marmandais Clos Baquey 2015</td>\n",
       "      <td>29.0</td>\n",
       "      <td>1</td>\n",
       "      <td>1044.0</td>\n",
       "    </tr>\n",
       "    <tr>\n",
       "      <th>651</th>\n",
       "      <td>6206</td>\n",
       "      <td>Domaine Giudicelli Patrimonio Blanc 2019</td>\n",
       "      <td>25.2</td>\n",
       "      <td>1</td>\n",
       "      <td>1033.2</td>\n",
       "    </tr>\n",
       "    <tr>\n",
       "      <th>30</th>\n",
       "      <td>4068</td>\n",
       "      <td>Gilles Robin Crozes-Hermitage Rouge Papillon 2019</td>\n",
       "      <td>16.6</td>\n",
       "      <td>1</td>\n",
       "      <td>1029.2</td>\n",
       "    </tr>\n",
       "  </tbody>\n",
       "</table>\n",
       "</div>"
      ],
      "text/plain": [
       "    product_id                                         post_title  price  \\\n",
       "194       4334             Champagne Gosset Grand Blanc de Blancs   49.0   \n",
       "71        4144                        Champagne Gosset Grand Rosé   49.0   \n",
       "218       4402                               Cognac Frapin VIP XO  176.0   \n",
       "70        4142              Champagne Gosset Grand Millésime 2006   53.0   \n",
       "69        4141                    Champagne Gosset Grande Réserve   39.0   \n",
       "201       4355     Champagne Egly-Ouriet Grand Cru Blanc de Noirs  126.5   \n",
       "199       4352     Champagne Egly-Ouriet Grand Cru Millésimé 2008  225.0   \n",
       "79        4153   Elian Daros Côtes du Marmandais Clos Baquey 2015   29.0   \n",
       "651       6206           Domaine Giudicelli Patrimonio Blanc 2019   25.2   \n",
       "30        4068  Gilles Robin Crozes-Hermitage Rouge Papillon 2019   16.6   \n",
       "\n",
       "    onsale_web      CA  \n",
       "194          1  4704.0  \n",
       "71           1  4263.0  \n",
       "218          1  2288.0  \n",
       "70           1  1590.0  \n",
       "69           1  1560.0  \n",
       "201          1  1391.5  \n",
       "199          1  1125.0  \n",
       "79           1  1044.0  \n",
       "651          1  1033.2  \n",
       "30           1  1029.2  "
      ]
     },
     "execution_count": 43,
     "metadata": {},
     "output_type": "execute_result"
    }
   ],
   "source": [
    "CA_df.nlargest(10, 'CA')"
   ]
  },
  {
   "cell_type": "markdown",
   "id": "434dd4a2",
   "metadata": {},
   "source": [
    "#### 70% des produits au CA le plus élevé ont un valeur située entre 15 et 60 euros.\n",
    "#### 60% de champagne présents dans la liste."
   ]
  },
  {
   "cell_type": "markdown",
   "id": "81691975",
   "metadata": {},
   "source": [
    "#### Afficher le nombre de produits dont le CA = 0"
   ]
  },
  {
   "cell_type": "code",
   "execution_count": 44,
   "id": "c7e4c828",
   "metadata": {},
   "outputs": [
    {
     "data": {
      "text/plain": [
       "329"
      ]
     },
     "execution_count": 44,
     "metadata": {},
     "output_type": "execute_result"
    }
   ],
   "source": [
    "noCA = CA_df.loc[CA_df['CA'] == 0, :].shape[0]\n",
    "noCA"
   ]
  },
  {
   "cell_type": "markdown",
   "id": "c78bda8f",
   "metadata": {},
   "source": [
    "#### 329 produits dont le CA est égal à 0."
   ]
  },
  {
   "cell_type": "markdown",
   "id": "99c07698",
   "metadata": {},
   "source": [
    "#### Calcul du taux des produits dont le CA = 0"
   ]
  },
  {
   "cell_type": "code",
   "execution_count": 45,
   "id": "62eb2026",
   "metadata": {},
   "outputs": [
    {
     "data": {
      "text/plain": [
       "46.08"
      ]
     },
     "execution_count": 45,
     "metadata": {},
     "output_type": "execute_result"
    }
   ],
   "source": [
    "tx_noCA = round((noCA / len(CA_df)) * 100, 2)\n",
    "tx_noCA"
   ]
  },
  {
   "cell_type": "markdown",
   "id": "f703c10c",
   "metadata": {},
   "source": [
    "#### 46 % des produits ont un chiffre d'affaires nul, soit presque 1 produit sur deux."
   ]
  },
  {
   "cell_type": "markdown",
   "id": "e7dc2b1d",
   "metadata": {},
   "source": [
    "### 8.2 Chiffre d'affaires réalisé en ligne"
   ]
  },
  {
   "cell_type": "code",
   "execution_count": 46,
   "id": "e35ca7ca",
   "metadata": {},
   "outputs": [
    {
     "data": {
      "text/plain": [
       "70568.6"
      ]
     },
     "execution_count": 46,
     "metadata": {},
     "output_type": "execute_result"
    }
   ],
   "source": [
    "CA_online = CA_df.loc[CA_df['onsale_web'] == '1', 'CA'].sum()\n",
    "CA_online"
   ]
  },
  {
   "cell_type": "markdown",
   "id": "cc38134e",
   "metadata": {},
   "source": [
    "#### Le chiffre d'affaires réalisé en ligne s'élève à 70 569 euros."
   ]
  },
  {
   "cell_type": "markdown",
   "id": "691688b6",
   "metadata": {},
   "source": [
    "#### Chiffre d'affaires moyen par produit en ligne."
   ]
  },
  {
   "cell_type": "code",
   "execution_count": 47,
   "id": "ec6f8d4e",
   "metadata": {},
   "outputs": [
    {
     "data": {
      "text/plain": [
       "98.83557422969189"
      ]
     },
     "execution_count": 47,
     "metadata": {},
     "output_type": "execute_result"
    }
   ],
   "source": [
    "CA_mean = CA_online / len(CA_df)\n",
    "CA_mean"
   ]
  },
  {
   "cell_type": "markdown",
   "id": "427b2c20",
   "metadata": {},
   "source": [
    "#### Le chiffre d'affaires moyen par produit en ligne s'élève à 99 euros."
   ]
  },
  {
   "cell_type": "markdown",
   "id": "9286d7c4",
   "metadata": {},
   "source": [
    "#### Calcul du CA moyen des produits en ligne moins les produits CA = 0"
   ]
  },
  {
   "cell_type": "code",
   "execution_count": 48,
   "id": "d3b9f865",
   "metadata": {},
   "outputs": [
    {
     "data": {
      "text/plain": [
       "183.29506493506494"
      ]
     },
     "execution_count": 48,
     "metadata": {},
     "output_type": "execute_result"
    }
   ],
   "source": [
    "CA_mean_2 = CA_online / (len(CA_df) - noCA)\n",
    "CA_mean_2"
   ]
  },
  {
   "cell_type": "markdown",
   "id": "7be27772",
   "metadata": {},
   "source": [
    "#### Le chiffre d'affaires moyen par produit en ligne excluant les produits au CA nul s'élève à 183 euros."
   ]
  },
  {
   "cell_type": "markdown",
   "id": "20c7f319",
   "metadata": {},
   "source": [
    "## 9. Analyse prix des produits\n",
    "### 9.1 Agrégation de la variable 'product_id' dans la table 'web'"
   ]
  },
  {
   "cell_type": "code",
   "execution_count": 49,
   "id": "39343e29",
   "metadata": {},
   "outputs": [],
   "source": [
    "product_df = web.groupby(['product_id', 'post_title'])[['price']].mean()"
   ]
  },
  {
   "cell_type": "markdown",
   "id": "88df02c6",
   "metadata": {},
   "source": [
    "#### Réinitialisation d'un index"
   ]
  },
  {
   "cell_type": "code",
   "execution_count": 50,
   "id": "b6c94bb8",
   "metadata": {},
   "outputs": [],
   "source": [
    "product_df.reset_index(inplace=True)"
   ]
  },
  {
   "cell_type": "markdown",
   "id": "32f401bd",
   "metadata": {},
   "source": [
    "#### Vérification nombre individus"
   ]
  },
  {
   "cell_type": "code",
   "execution_count": 51,
   "id": "d4dafdfb",
   "metadata": {},
   "outputs": [
    {
     "data": {
      "text/plain": [
       "(714, 3)"
      ]
     },
     "execution_count": 51,
     "metadata": {},
     "output_type": "execute_result"
    }
   ],
   "source": [
    "product_df.shape"
   ]
  },
  {
   "cell_type": "markdown",
   "id": "023ed895",
   "metadata": {},
   "source": [
    "#### Aperçu de la table 'product_df'"
   ]
  },
  {
   "cell_type": "code",
   "execution_count": 52,
   "id": "c2de5952",
   "metadata": {},
   "outputs": [
    {
     "data": {
      "text/html": [
       "<div>\n",
       "<style scoped>\n",
       "    .dataframe tbody tr th:only-of-type {\n",
       "        vertical-align: middle;\n",
       "    }\n",
       "\n",
       "    .dataframe tbody tr th {\n",
       "        vertical-align: top;\n",
       "    }\n",
       "\n",
       "    .dataframe thead th {\n",
       "        text-align: right;\n",
       "    }\n",
       "</style>\n",
       "<table border=\"1\" class=\"dataframe\">\n",
       "  <thead>\n",
       "    <tr style=\"text-align: right;\">\n",
       "      <th></th>\n",
       "      <th>product_id</th>\n",
       "      <th>post_title</th>\n",
       "      <th>price</th>\n",
       "    </tr>\n",
       "  </thead>\n",
       "  <tbody>\n",
       "    <tr>\n",
       "      <th>0</th>\n",
       "      <td>3847</td>\n",
       "      <td>Pierre Jean Villa Saint-Joseph Préface 2018</td>\n",
       "      <td>24.2</td>\n",
       "    </tr>\n",
       "    <tr>\n",
       "      <th>1</th>\n",
       "      <td>3849</td>\n",
       "      <td>Pierre Jean Villa Saint-Joseph Rouge Tildé 2017</td>\n",
       "      <td>34.3</td>\n",
       "    </tr>\n",
       "    <tr>\n",
       "      <th>2</th>\n",
       "      <td>3850</td>\n",
       "      <td>Pierre Jean Villa Crozes-Hermitage Accroche Co...</td>\n",
       "      <td>20.8</td>\n",
       "    </tr>\n",
       "    <tr>\n",
       "      <th>3</th>\n",
       "      <td>4032</td>\n",
       "      <td>Pierre Jean Villa IGP Collines Rhodaniennes Ga...</td>\n",
       "      <td>14.1</td>\n",
       "    </tr>\n",
       "    <tr>\n",
       "      <th>4</th>\n",
       "      <td>4039</td>\n",
       "      <td>Pierre Jean Villa Côte Rôtie Carmina 2017</td>\n",
       "      <td>46.0</td>\n",
       "    </tr>\n",
       "  </tbody>\n",
       "</table>\n",
       "</div>"
      ],
      "text/plain": [
       "  product_id                                         post_title  price\n",
       "0       3847        Pierre Jean Villa Saint-Joseph Préface 2018   24.2\n",
       "1       3849    Pierre Jean Villa Saint-Joseph Rouge Tildé 2017   34.3\n",
       "2       3850  Pierre Jean Villa Crozes-Hermitage Accroche Co...   20.8\n",
       "3       4032  Pierre Jean Villa IGP Collines Rhodaniennes Ga...   14.1\n",
       "4       4039          Pierre Jean Villa Côte Rôtie Carmina 2017   46.0"
      ]
     },
     "execution_count": 52,
     "metadata": {},
     "output_type": "execute_result"
    }
   ],
   "source": [
    "product_df.head()"
   ]
  },
  {
   "cell_type": "markdown",
   "id": "2dc18c11",
   "metadata": {},
   "source": [
    "### 9.2 Distribution empirique et représentation de l'écart-type et des outliers"
   ]
  },
  {
   "cell_type": "code",
   "execution_count": 53,
   "id": "b4b1d23e",
   "metadata": {},
   "outputs": [
    {
     "name": "stdout",
     "output_type": "stream",
     "text": [
      "Distribution empirique des prix des produits\n",
      "\n",
      "count    714.000000\n",
      "mean      32.493137\n",
      "std       27.810525\n",
      "min        5.200000\n",
      "25%       14.100000\n",
      "50%       23.550000\n",
      "75%       42.175000\n",
      "max      225.000000\n",
      "Name: price, dtype: float64\n",
      "\n",
      "Ecart-type = 27.791042941002935\n"
     ]
    },
    {
     "data": {
      "image/png": "[encoded data removed]",
      "text/plain": [
       "<Figure size 1080x144 with 1 Axes>"
      ]
     },
     "metadata": {
      "needs_background": "light"
     },
     "output_type": "display_data"
    }
   ],
   "source": [
    "print('Distribution empirique des prix des produits\\n')\n",
    "print(product_df['price'].describe())\n",
    "print('\\nEcart-type =', product_df['price'].std(ddof=0))\n",
    "plt.figure(figsize=(15,2))\n",
    "plt.rcParams.update({'font.size': 14})\n",
    "product_df.boxplot(column='price', vert=False)\n",
    "plt.xlabel(\"Prix des produits en euros\")\n",
    "plt.title('Ecart-type et outliers')\n",
    "plt.xticks([0, 25, 50, 75, 100, 125, 150, 175, 200, 225, 250])\n",
    "plt.show()"
   ]
  },
  {
   "cell_type": "markdown",
   "id": "07a4a489",
   "metadata": {},
   "source": [
    "### 9.3 Liste des outliers"
   ]
  },
  {
   "cell_type": "markdown",
   "id": "3fccc060",
   "metadata": {},
   "source": [
    "#### Outlier = Q3 + (1,5 x IQ) = 42,2 + (1,5 x 27,8) = 83,9"
   ]
  },
  {
   "cell_type": "markdown",
   "id": "165fd379",
   "metadata": {},
   "source": [
    "#### Création d'un dataframe des outliers"
   ]
  },
  {
   "cell_type": "code",
   "execution_count": 54,
   "id": "6b7d1b3e",
   "metadata": {},
   "outputs": [],
   "source": [
    "product_out = product_df[product_df['price'] > 83.9]"
   ]
  },
  {
   "cell_type": "markdown",
   "id": "ea601e83",
   "metadata": {},
   "source": [
    "#### Liste des outliers"
   ]
  },
  {
   "cell_type": "code",
   "execution_count": 55,
   "id": "3833e091",
   "metadata": {},
   "outputs": [
    {
     "data": {
      "text/html": [
       "<div>\n",
       "<style scoped>\n",
       "    .dataframe tbody tr th:only-of-type {\n",
       "        vertical-align: middle;\n",
       "    }\n",
       "\n",
       "    .dataframe tbody tr th {\n",
       "        vertical-align: top;\n",
       "    }\n",
       "\n",
       "    .dataframe thead th {\n",
       "        text-align: right;\n",
       "    }\n",
       "</style>\n",
       "<table border=\"1\" class=\"dataframe\">\n",
       "  <thead>\n",
       "    <tr style=\"text-align: right;\">\n",
       "      <th></th>\n",
       "      <th>product_id</th>\n",
       "      <th>post_title</th>\n",
       "      <th>price</th>\n",
       "    </tr>\n",
       "  </thead>\n",
       "  <tbody>\n",
       "    <tr>\n",
       "      <th>199</th>\n",
       "      <td>4352</td>\n",
       "      <td>Champagne Egly-Ouriet Grand Cru Millésimé 2008</td>\n",
       "      <td>225.0</td>\n",
       "    </tr>\n",
       "    <tr>\n",
       "      <th>426</th>\n",
       "      <td>5001</td>\n",
       "      <td>David Duband Charmes-Chambertin Grand Cru 2014</td>\n",
       "      <td>217.5</td>\n",
       "    </tr>\n",
       "    <tr>\n",
       "      <th>587</th>\n",
       "      <td>5892</td>\n",
       "      <td>Coteaux Champenois Egly-Ouriet Ambonnay Rouge ...</td>\n",
       "      <td>191.3</td>\n",
       "    </tr>\n",
       "    <tr>\n",
       "      <th>218</th>\n",
       "      <td>4402</td>\n",
       "      <td>Cognac Frapin VIP XO</td>\n",
       "      <td>176.0</td>\n",
       "    </tr>\n",
       "    <tr>\n",
       "      <th>553</th>\n",
       "      <td>5767</td>\n",
       "      <td>Camille Giroud Clos de Vougeot 2016</td>\n",
       "      <td>175.0</td>\n",
       "    </tr>\n",
       "    <tr>\n",
       "      <th>221</th>\n",
       "      <td>4406</td>\n",
       "      <td>Cognac Frapin Château de Fontpinot 1989 20 Ans...</td>\n",
       "      <td>157.0</td>\n",
       "    </tr>\n",
       "    <tr>\n",
       "      <th>381</th>\n",
       "      <td>4904</td>\n",
       "      <td>Domaine Des Croix Corton Charlemagne Grand Cru...</td>\n",
       "      <td>137.0</td>\n",
       "    </tr>\n",
       "    <tr>\n",
       "      <th>642</th>\n",
       "      <td>6126</td>\n",
       "      <td>Champagne Gosset Célébris Vintage 2007</td>\n",
       "      <td>135.0</td>\n",
       "    </tr>\n",
       "    <tr>\n",
       "      <th>201</th>\n",
       "      <td>4355</td>\n",
       "      <td>Champagne Egly-Ouriet Grand Cru Blanc de Noirs</td>\n",
       "      <td>126.5</td>\n",
       "    </tr>\n",
       "    <tr>\n",
       "      <th>511</th>\n",
       "      <td>5612</td>\n",
       "      <td>Domaine Weinbach Gewurztraminer Grand Cru Furs...</td>\n",
       "      <td>124.8</td>\n",
       "    </tr>\n",
       "    <tr>\n",
       "      <th>603</th>\n",
       "      <td>5917</td>\n",
       "      <td>Wemyss Malts Single Cask Scotch Whisky Choc 'n...</td>\n",
       "      <td>122.0</td>\n",
       "    </tr>\n",
       "    <tr>\n",
       "      <th>654</th>\n",
       "      <td>6213</td>\n",
       "      <td>Domaine des Comtes Lafon Volnay 1er Cru Santen...</td>\n",
       "      <td>121.0</td>\n",
       "    </tr>\n",
       "    <tr>\n",
       "      <th>657</th>\n",
       "      <td>6216</td>\n",
       "      <td>Domaine des Comtes Lafon Volnay 1er Cru Champa...</td>\n",
       "      <td>121.0</td>\n",
       "    </tr>\n",
       "    <tr>\n",
       "      <th>648</th>\n",
       "      <td>6202</td>\n",
       "      <td>Domaine Clerget Echezeaux Grand Cru En Orveaux...</td>\n",
       "      <td>116.4</td>\n",
       "    </tr>\n",
       "    <tr>\n",
       "      <th>653</th>\n",
       "      <td>6212</td>\n",
       "      <td>Domaine des Comtes Lafon Volnay 1er Cru Santen...</td>\n",
       "      <td>115.0</td>\n",
       "    </tr>\n",
       "    <tr>\n",
       "      <th>656</th>\n",
       "      <td>6215</td>\n",
       "      <td>Domaine des Comtes Lafon Volnay 1er Cru Champa...</td>\n",
       "      <td>115.0</td>\n",
       "    </tr>\n",
       "    <tr>\n",
       "      <th>604</th>\n",
       "      <td>5918</td>\n",
       "      <td>Wemyss Malts Single Cask Scotch Whisky Chai Ca...</td>\n",
       "      <td>114.0</td>\n",
       "    </tr>\n",
       "    <tr>\n",
       "      <th>437</th>\n",
       "      <td>5025</td>\n",
       "      <td>Champagne Agrapart &amp;amp, Fils L'Avizoise Extra...</td>\n",
       "      <td>112.0</td>\n",
       "    </tr>\n",
       "    <tr>\n",
       "      <th>227</th>\n",
       "      <td>4582</td>\n",
       "      <td>Château de Meursault Puligny-Montrachet 1er Cr...</td>\n",
       "      <td>109.6</td>\n",
       "    </tr>\n",
       "    <tr>\n",
       "      <th>219</th>\n",
       "      <td>4404</td>\n",
       "      <td>Cognac Frapin Château de Fontpinot XO</td>\n",
       "      <td>108.5</td>\n",
       "    </tr>\n",
       "    <tr>\n",
       "      <th>647</th>\n",
       "      <td>6201</td>\n",
       "      <td>David Duband Chambolle-Musigny 1er Cru Les Sen...</td>\n",
       "      <td>105.6</td>\n",
       "    </tr>\n",
       "    <tr>\n",
       "      <th>431</th>\n",
       "      <td>5007</td>\n",
       "      <td>Domaine des Comtes Lafon Volnay 1er Cru Santen...</td>\n",
       "      <td>105.0</td>\n",
       "    </tr>\n",
       "    <tr>\n",
       "      <th>432</th>\n",
       "      <td>5008</td>\n",
       "      <td>Domaine des Comtes Lafon Volnay 1er Cru Santen...</td>\n",
       "      <td>105.0</td>\n",
       "    </tr>\n",
       "    <tr>\n",
       "      <th>222</th>\n",
       "      <td>4407</td>\n",
       "      <td>Cognac Frapin Cigar Blend</td>\n",
       "      <td>104.0</td>\n",
       "    </tr>\n",
       "    <tr>\n",
       "      <th>380</th>\n",
       "      <td>4903</td>\n",
       "      <td>Domaine Des Croix Corton Grand Cru Les Grèves ...</td>\n",
       "      <td>102.3</td>\n",
       "    </tr>\n",
       "    <tr>\n",
       "      <th>63</th>\n",
       "      <td>4115</td>\n",
       "      <td>Zind-Humbrecht Riesling Grand Cru Rangen De Th...</td>\n",
       "      <td>100.0</td>\n",
       "    </tr>\n",
       "    <tr>\n",
       "      <th>655</th>\n",
       "      <td>6214</td>\n",
       "      <td>Domaine des Comtes Lafon Volnay 1er Cru Champa...</td>\n",
       "      <td>99.0</td>\n",
       "    </tr>\n",
       "    <tr>\n",
       "      <th>602</th>\n",
       "      <td>5916</td>\n",
       "      <td>Wemyss Malts Single Cask Scotch Whisky Chocola...</td>\n",
       "      <td>93.0</td>\n",
       "    </tr>\n",
       "    <tr>\n",
       "      <th>502</th>\n",
       "      <td>5565</td>\n",
       "      <td>Tempier Bandol Cabassaou 2017</td>\n",
       "      <td>92.0</td>\n",
       "    </tr>\n",
       "    <tr>\n",
       "      <th>65</th>\n",
       "      <td>4132</td>\n",
       "      <td>Zind-Humbrecht Pinot Gris Grand Cru Rangen De ...</td>\n",
       "      <td>88.4</td>\n",
       "    </tr>\n",
       "    <tr>\n",
       "      <th>438</th>\n",
       "      <td>5026</td>\n",
       "      <td>Champagne Agrapart &amp;amp, Fils Minéral Extra Br...</td>\n",
       "      <td>86.8</td>\n",
       "    </tr>\n",
       "    <tr>\n",
       "      <th>205</th>\n",
       "      <td>4359</td>\n",
       "      <td>Champagne Larmandier-Bernier Grand Cru Les Che...</td>\n",
       "      <td>85.6</td>\n",
       "    </tr>\n",
       "  </tbody>\n",
       "</table>\n",
       "</div>"
      ],
      "text/plain": [
       "    product_id                                         post_title  price\n",
       "199       4352     Champagne Egly-Ouriet Grand Cru Millésimé 2008  225.0\n",
       "426       5001     David Duband Charmes-Chambertin Grand Cru 2014  217.5\n",
       "587       5892  Coteaux Champenois Egly-Ouriet Ambonnay Rouge ...  191.3\n",
       "218       4402                               Cognac Frapin VIP XO  176.0\n",
       "553       5767                Camille Giroud Clos de Vougeot 2016  175.0\n",
       "221       4406  Cognac Frapin Château de Fontpinot 1989 20 Ans...  157.0\n",
       "381       4904  Domaine Des Croix Corton Charlemagne Grand Cru...  137.0\n",
       "642       6126             Champagne Gosset Célébris Vintage 2007  135.0\n",
       "201       4355     Champagne Egly-Ouriet Grand Cru Blanc de Noirs  126.5\n",
       "511       5612  Domaine Weinbach Gewurztraminer Grand Cru Furs...  124.8\n",
       "603       5917  Wemyss Malts Single Cask Scotch Whisky Choc 'n...  122.0\n",
       "654       6213  Domaine des Comtes Lafon Volnay 1er Cru Santen...  121.0\n",
       "657       6216  Domaine des Comtes Lafon Volnay 1er Cru Champa...  121.0\n",
       "648       6202  Domaine Clerget Echezeaux Grand Cru En Orveaux...  116.4\n",
       "653       6212  Domaine des Comtes Lafon Volnay 1er Cru Santen...  115.0\n",
       "656       6215  Domaine des Comtes Lafon Volnay 1er Cru Champa...  115.0\n",
       "604       5918  Wemyss Malts Single Cask Scotch Whisky Chai Ca...  114.0\n",
       "437       5025  Champagne Agrapart &amp, Fils L'Avizoise Extra...  112.0\n",
       "227       4582  Château de Meursault Puligny-Montrachet 1er Cr...  109.6\n",
       "219       4404              Cognac Frapin Château de Fontpinot XO  108.5\n",
       "647       6201  David Duband Chambolle-Musigny 1er Cru Les Sen...  105.6\n",
       "431       5007  Domaine des Comtes Lafon Volnay 1er Cru Santen...  105.0\n",
       "432       5008  Domaine des Comtes Lafon Volnay 1er Cru Santen...  105.0\n",
       "222       4407                          Cognac Frapin Cigar Blend  104.0\n",
       "380       4903  Domaine Des Croix Corton Grand Cru Les Grèves ...  102.3\n",
       "63        4115  Zind-Humbrecht Riesling Grand Cru Rangen De Th...  100.0\n",
       "655       6214  Domaine des Comtes Lafon Volnay 1er Cru Champa...   99.0\n",
       "602       5916  Wemyss Malts Single Cask Scotch Whisky Chocola...   93.0\n",
       "502       5565                      Tempier Bandol Cabassaou 2017   92.0\n",
       "65        4132  Zind-Humbrecht Pinot Gris Grand Cru Rangen De ...   88.4\n",
       "438       5026  Champagne Agrapart &amp, Fils Minéral Extra Br...   86.8\n",
       "205       4359  Champagne Larmandier-Bernier Grand Cru Les Che...   85.6"
      ]
     },
     "metadata": {},
     "output_type": "display_data"
    }
   ],
   "source": [
    "display(product_out.sort_values(by=['price'], ascending=False))"
   ]
  },
  {
   "cell_type": "markdown",
   "id": "089d07e7",
   "metadata": {},
   "source": [
    "#### Présence de nombreux grands ou 1er crus -> valeurs cohérentes."
   ]
  },
  {
   "cell_type": "markdown",
   "id": "95f7449a",
   "metadata": {},
   "source": [
    "#### Calcul du nombre d'outliers et du taux d'outliers par rapport au nombre total de produits"
   ]
  },
  {
   "cell_type": "code",
   "execution_count": 56,
   "id": "808cf0bc",
   "metadata": {},
   "outputs": [
    {
     "data": {
      "text/plain": [
       "(32, 3)"
      ]
     },
     "execution_count": 56,
     "metadata": {},
     "output_type": "execute_result"
    }
   ],
   "source": [
    "product_out.shape"
   ]
  },
  {
   "cell_type": "code",
   "execution_count": 57,
   "id": "e9367e14",
   "metadata": {},
   "outputs": [
    {
     "data": {
      "text/plain": [
       "4.481792717086835"
      ]
     },
     "execution_count": 57,
     "metadata": {},
     "output_type": "execute_result"
    }
   ],
   "source": [
    "(len(product_out) / len(product_df)) * 100"
   ]
  },
  {
   "cell_type": "markdown",
   "id": "8ef4b7e8",
   "metadata": {},
   "source": [
    "#### 32 produits ont une valeur aberrante, soit 4,5% du total des produits.\n",
    "### 9.4 Représentation graphique des outliers"
   ]
  },
  {
   "cell_type": "code",
   "execution_count": 58,
   "id": "e1217bcc",
   "metadata": {},
   "outputs": [
    {
     "data": {
      "image/png": "[encoded data removed]",
      "text/plain": [
       "<Figure size 1080x288 with 1 Axes>"
      ]
     },
     "metadata": {
      "needs_background": "light"
     },
     "output_type": "display_data"
    }
   ],
   "source": [
    "plt.figure(figsize=(15,4))\n",
    "plt.rcParams.update({'font.size': 14})\n",
    "sns.set_palette('Set2')\n",
    "prod_out_sorted = product_out.sort_values('price', ascending = True)\n",
    "prod_out_hist = sns.barplot(data=prod_out_sorted, x = 'product_id', y = 'price')\n",
    "plt.xticks(rotation=45)\n",
    "prod_out_hist.set(xlabel='Identifiant Produit')\n",
    "prod_out_hist.set(ylabel='Prix en euros')\n",
    "plt.title(\"Produit valeurs aberrantes\")\n",
    "plt.grid(axis='y')"
   ]
  },
  {
   "cell_type": "code",
   "execution_count": 59,
   "id": "6c44b88f",
   "metadata": {},
   "outputs": [
    {
     "name": "stdout",
     "output_type": "stream",
     "text": [
      "18.75\n",
      "62.5\n",
      "18.75\n"
     ]
    }
   ],
   "source": [
    "out_low = len(product_out[product_out['price'] < 100]) # -> 6\n",
    "out_mid = len(product_out[(product_out['price'] >= 100) & (product_out['price'] < 150)]) # -> 20\n",
    "out_high = len(product_out[product_out['price'] > 150]) # -> 6\n",
    "print(out_low / len(product_out) * 100)\n",
    "print(out_mid / len(product_out) * 100)\n",
    "print(out_high / len(product_out) * 100)"
   ]
  },
  {
   "cell_type": "markdown",
   "id": "9e1ad4a3",
   "metadata": {},
   "source": [
    "#### 20 %  des outliers ont un prix entre 84 et 100 euros."
   ]
  },
  {
   "cell_type": "markdown",
   "id": "de150555",
   "metadata": {},
   "source": [
    "#### 60% des outliers ont un prix compris entre 100 et 150 euros."
   ]
  },
  {
   "cell_type": "markdown",
   "id": "cf8ae5cb",
   "metadata": {},
   "source": [
    "#### 20 % des outliers ont un prix de plus de 150 euros."
   ]
  },
  {
   "cell_type": "code",
   "execution_count": null,
   "id": "ef0baaac",
   "metadata": {},
   "outputs": [],
   "source": []
  }
 ],
 "metadata": {
  "kernelspec": {
   "display_name": "Python 3 (ipykernel)",
   "language": "python",
   "name": "python3"
  },
  "language_info": {
   "codemirror_mode": {
    "name": "ipython",
    "version": 3
   },
   "file_extension": ".py",
   "mimetype": "text/x-python",
   "name": "python",
   "nbconvert_exporter": "python",
   "pygments_lexer": "ipython3",
   "version": "3.9.12"
  }
 },
 "nbformat": 4,
 "nbformat_minor": 5
}
