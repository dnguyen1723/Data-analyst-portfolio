{
 "cells": [
  {
   "cell_type": "markdown",
   "id": "cc44505e",
   "metadata": {},
   "source": [
    "# Projet 10 : Détectez des faux billets\n",
    "-----\n",
    "## 1 Importation des librairies"
   ]
  },
  {
   "cell_type": "code",
   "execution_count": 1,
   "id": "5aa8d105",
   "metadata": {},
   "outputs": [],
   "source": [
    "import pandas as pd\n",
    "import numpy as np\n",
    "import matplotlib.pyplot as plt\n",
    "import seaborn as sns"
   ]
  },
  {
   "cell_type": "markdown",
   "id": "2937532b",
   "metadata": {},
   "source": [
    "-----\n",
    "## 2 Chargement des données"
   ]
  },
  {
   "cell_type": "code",
   "execution_count": 2,
   "id": "655902a6",
   "metadata": {},
   "outputs": [
    {
     "data": {
      "text/html": [
       "<div>\n",
       "<style scoped>\n",
       "    .dataframe tbody tr th:only-of-type {\n",
       "        vertical-align: middle;\n",
       "    }\n",
       "\n",
       "    .dataframe tbody tr th {\n",
       "        vertical-align: top;\n",
       "    }\n",
       "\n",
       "    .dataframe thead th {\n",
       "        text-align: right;\n",
       "    }\n",
       "</style>\n",
       "<table border=\"1\" class=\"dataframe\">\n",
       "  <thead>\n",
       "    <tr style=\"text-align: right;\">\n",
       "      <th></th>\n",
       "      <th>is_genuine</th>\n",
       "      <th>diagonal</th>\n",
       "      <th>height_left</th>\n",
       "      <th>height_right</th>\n",
       "      <th>margin_low</th>\n",
       "      <th>margin_up</th>\n",
       "      <th>length</th>\n",
       "    </tr>\n",
       "  </thead>\n",
       "  <tbody>\n",
       "    <tr>\n",
       "      <th>0</th>\n",
       "      <td>True</td>\n",
       "      <td>171.81</td>\n",
       "      <td>104.86</td>\n",
       "      <td>104.95</td>\n",
       "      <td>4.52</td>\n",
       "      <td>2.89</td>\n",
       "      <td>112.83</td>\n",
       "    </tr>\n",
       "    <tr>\n",
       "      <th>1</th>\n",
       "      <td>True</td>\n",
       "      <td>171.46</td>\n",
       "      <td>103.36</td>\n",
       "      <td>103.66</td>\n",
       "      <td>3.77</td>\n",
       "      <td>2.99</td>\n",
       "      <td>113.09</td>\n",
       "    </tr>\n",
       "    <tr>\n",
       "      <th>2</th>\n",
       "      <td>True</td>\n",
       "      <td>172.69</td>\n",
       "      <td>104.48</td>\n",
       "      <td>103.50</td>\n",
       "      <td>4.40</td>\n",
       "      <td>2.94</td>\n",
       "      <td>113.16</td>\n",
       "    </tr>\n",
       "    <tr>\n",
       "      <th>3</th>\n",
       "      <td>True</td>\n",
       "      <td>171.36</td>\n",
       "      <td>103.91</td>\n",
       "      <td>103.94</td>\n",
       "      <td>3.62</td>\n",
       "      <td>3.01</td>\n",
       "      <td>113.51</td>\n",
       "    </tr>\n",
       "    <tr>\n",
       "      <th>4</th>\n",
       "      <td>True</td>\n",
       "      <td>171.73</td>\n",
       "      <td>104.28</td>\n",
       "      <td>103.46</td>\n",
       "      <td>4.04</td>\n",
       "      <td>3.48</td>\n",
       "      <td>112.54</td>\n",
       "    </tr>\n",
       "  </tbody>\n",
       "</table>\n",
       "</div>"
      ],
      "text/plain": [
       "   is_genuine  diagonal  height_left  height_right  margin_low  margin_up  \\\n",
       "0        True    171.81       104.86        104.95        4.52       2.89   \n",
       "1        True    171.46       103.36        103.66        3.77       2.99   \n",
       "2        True    172.69       104.48        103.50        4.40       2.94   \n",
       "3        True    171.36       103.91        103.94        3.62       3.01   \n",
       "4        True    171.73       104.28        103.46        4.04       3.48   \n",
       "\n",
       "   length  \n",
       "0  112.83  \n",
       "1  113.09  \n",
       "2  113.16  \n",
       "3  113.51  \n",
       "4  112.54  "
      ]
     },
     "execution_count": 2,
     "metadata": {},
     "output_type": "execute_result"
    }
   ],
   "source": [
    "data = pd.read_csv('billets.csv', sep = ';', decimal = '.')\n",
    "data.head()"
   ]
  },
  {
   "cell_type": "markdown",
   "id": "fd6cf137",
   "metadata": {},
   "source": [
    "On affiche le nombre de lignes et de colonnes."
   ]
  },
  {
   "cell_type": "code",
   "execution_count": 3,
   "id": "89abcefc",
   "metadata": {},
   "outputs": [
    {
     "data": {
      "text/plain": [
       "(1500, 7)"
      ]
     },
     "execution_count": 3,
     "metadata": {},
     "output_type": "execute_result"
    }
   ],
   "source": [
    "data.shape"
   ]
  },
  {
   "cell_type": "markdown",
   "id": "f6418f9a",
   "metadata": {},
   "source": [
    "-----\n",
    "## 3 Nettoyage et préparation des données\n",
    "### 3.1 Vérification du types de données"
   ]
  },
  {
   "cell_type": "code",
   "execution_count": 4,
   "id": "46b3ef29",
   "metadata": {},
   "outputs": [
    {
     "data": {
      "text/plain": [
       "is_genuine         bool\n",
       "diagonal        float64\n",
       "height_left     float64\n",
       "height_right    float64\n",
       "margin_low      float64\n",
       "margin_up       float64\n",
       "length          float64\n",
       "dtype: object"
      ]
     },
     "execution_count": 4,
     "metadata": {},
     "output_type": "execute_result"
    }
   ],
   "source": [
    "data.dtypes"
   ]
  },
  {
   "cell_type": "markdown",
   "id": "49ea692d",
   "metadata": {},
   "source": [
    "Pas d'erreurs\n",
    "\n",
    "### 3.2 Vérification des doublons"
   ]
  },
  {
   "cell_type": "code",
   "execution_count": 5,
   "id": "fa9da089",
   "metadata": {},
   "outputs": [
    {
     "data": {
      "text/plain": [
       "0"
      ]
     },
     "execution_count": 5,
     "metadata": {},
     "output_type": "execute_result"
    }
   ],
   "source": [
    "data.duplicated().sum()"
   ]
  },
  {
   "cell_type": "markdown",
   "id": "832401e8",
   "metadata": {},
   "source": [
    "### 3.3 Vérification des valeurs manquantes"
   ]
  },
  {
   "cell_type": "code",
   "execution_count": 6,
   "id": "e339fc44",
   "metadata": {},
   "outputs": [
    {
     "data": {
      "text/plain": [
       "is_genuine       0\n",
       "diagonal         0\n",
       "height_left      0\n",
       "height_right     0\n",
       "margin_low      37\n",
       "margin_up        0\n",
       "length           0\n",
       "dtype: int64"
      ]
     },
     "execution_count": 6,
     "metadata": {},
     "output_type": "execute_result"
    }
   ],
   "source": [
    "data.isnull().sum()"
   ]
  },
  {
   "cell_type": "markdown",
   "id": "62260780",
   "metadata": {},
   "source": [
    "37 Valeurs manquantes dans la colonnes \"margin_low\".\n",
    "\n",
    "On fait une régression linéaire multiple pour calculer les valeurs manquantes.\n",
    "\n",
    "### 3.4 Régression linéaire\n",
    "On importe d'abord les librairies."
   ]
  },
  {
   "cell_type": "code",
   "execution_count": 7,
   "id": "017ebde0",
   "metadata": {},
   "outputs": [],
   "source": [
    "import statsmodels.formula.api as smf\n",
    "from scipy.stats import t, shapiro\n",
    "from statsmodels.stats.outliers_influence import variance_inflation_factor\n",
    "import statsmodels\n",
    "from statsmodels.formula.api import ols\n",
    "import statsmodels.api as sm"
   ]
  },
  {
   "cell_type": "code",
   "execution_count": 8,
   "id": "0fceb82b",
   "metadata": {},
   "outputs": [
    {
     "name": "stdout",
     "output_type": "stream",
     "text": [
      "                            OLS Regression Results                            \n",
      "==============================================================================\n",
      "Dep. Variable:             margin_low   R-squared:                       0.617\n",
      "Model:                            OLS   Adj. R-squared:                  0.615\n",
      "Method:                 Least Squares   F-statistic:                     390.7\n",
      "Date:                Thu, 29 Jun 2023   Prob (F-statistic):          4.75e-299\n",
      "Time:                        14:22:51   Log-Likelihood:                -774.14\n",
      "No. Observations:                1463   AIC:                             1562.\n",
      "Df Residuals:                    1456   BIC:                             1599.\n",
      "Df Model:                           6                                         \n",
      "Covariance Type:            nonrobust                                         \n",
      "======================================================================================\n",
      "                         coef    std err          t      P>|t|      [0.025      0.975]\n",
      "--------------------------------------------------------------------------------------\n",
      "Intercept              2.8668      8.316      0.345      0.730     -13.445      19.179\n",
      "is_genuine[T.True]    -1.1406      0.050    -23.028      0.000      -1.238      -1.043\n",
      "diagonal              -0.0130      0.036     -0.364      0.716      -0.083       0.057\n",
      "height_left            0.0283      0.039      0.727      0.468      -0.048       0.105\n",
      "height_right           0.0267      0.038      0.701      0.484      -0.048       0.102\n",
      "margin_up             -0.2128      0.059     -3.621      0.000      -0.328      -0.098\n",
      "length                -0.0039      0.023     -0.166      0.868      -0.050       0.042\n",
      "==============================================================================\n",
      "Omnibus:                       21.975   Durbin-Watson:                   2.038\n",
      "Prob(Omnibus):                  0.000   Jarque-Bera (JB):               37.993\n",
      "Skew:                           0.061   Prob(JB):                     5.62e-09\n",
      "Kurtosis:                       3.780   Cond. No.                     1.95e+05\n",
      "==============================================================================\n",
      "\n",
      "Notes:\n",
      "[1] Standard Errors assume that the covariance matrix of the errors is correctly specified.\n",
      "[2] The condition number is large, 1.95e+05. This might indicate that there are\n",
      "strong multicollinearity or other numerical problems.\n"
     ]
    }
   ],
   "source": [
    "reg_multi = smf.ols('margin_low ~ is_genuine + diagonal + height_left + height_right + margin_up + length', data = data).fit()\n",
    "print (reg_multi.summary())"
   ]
  },
  {
   "cell_type": "markdown",
   "id": "9aaa4f4e",
   "metadata": {},
   "source": [
    "Certains paramètres ne sont pas significativement différents de 0, car leur p-valeur n'est pas inférieure à 5 %, le niveau de test que nous souhaitons.\n",
    "\n",
    "On retire les variables non significatives. On commence par la moins significative 'diagonal' car sa p-value = 0.71"
   ]
  },
  {
   "cell_type": "code",
   "execution_count": 9,
   "id": "3f678b9d",
   "metadata": {},
   "outputs": [
    {
     "name": "stdout",
     "output_type": "stream",
     "text": [
      "                            OLS Regression Results                            \n",
      "==============================================================================\n",
      "Dep. Variable:             margin_low   R-squared:                       0.617\n",
      "Model:                            OLS   Adj. R-squared:                  0.616\n",
      "Method:                 Least Squares   F-statistic:                     469.1\n",
      "Date:                Thu, 29 Jun 2023   Prob (F-statistic):          2.23e-300\n",
      "Time:                        14:22:51   Log-Likelihood:                -774.20\n",
      "No. Observations:                1463   AIC:                             1560.\n",
      "Df Residuals:                    1457   BIC:                             1592.\n",
      "Df Model:                           5                                         \n",
      "Covariance Type:            nonrobust                                         \n",
      "======================================================================================\n",
      "                         coef    std err          t      P>|t|      [0.025      0.975]\n",
      "--------------------------------------------------------------------------------------\n",
      "Intercept              0.7806      6.025      0.130      0.897     -11.038      12.599\n",
      "is_genuine[T.True]    -1.1427      0.049    -23.244      0.000      -1.239      -1.046\n",
      "height_left            0.0273      0.039      0.703      0.482      -0.049       0.103\n",
      "height_right           0.0261      0.038      0.684      0.494      -0.049       0.101\n",
      "margin_up             -0.2134      0.059     -3.634      0.000      -0.329      -0.098\n",
      "length                -0.0036      0.023     -0.156      0.876      -0.050       0.042\n",
      "==============================================================================\n",
      "Omnibus:                       22.226   Durbin-Watson:                   2.038\n",
      "Prob(Omnibus):                  0.000   Jarque-Bera (JB):               38.661\n",
      "Skew:                           0.059   Prob(JB):                     4.03e-09\n",
      "Kurtosis:                       3.788   Cond. No.                     1.04e+05\n",
      "==============================================================================\n",
      "\n",
      "Notes:\n",
      "[1] Standard Errors assume that the covariance matrix of the errors is correctly specified.\n",
      "[2] The condition number is large, 1.04e+05. This might indicate that there are\n",
      "strong multicollinearity or other numerical problems.\n"
     ]
    }
   ],
   "source": [
    "reg_multi = smf.ols('margin_low ~ is_genuine + height_left + height_right + margin_up + length', data = data).fit()\n",
    "print (reg_multi.summary())"
   ]
  },
  {
   "cell_type": "markdown",
   "id": "2f080623",
   "metadata": {},
   "source": [
    "C'est maintenant 'length', avec une p-valeur de 0.88, qui est la moins significative. On la retire."
   ]
  },
  {
   "cell_type": "code",
   "execution_count": 10,
   "id": "ce558115",
   "metadata": {},
   "outputs": [
    {
     "name": "stdout",
     "output_type": "stream",
     "text": [
      "                            OLS Regression Results                            \n",
      "==============================================================================\n",
      "Dep. Variable:             margin_low   R-squared:                       0.617\n",
      "Model:                            OLS   Adj. R-squared:                  0.616\n",
      "Method:                 Least Squares   F-statistic:                     586.8\n",
      "Date:                Thu, 29 Jun 2023   Prob (F-statistic):          8.76e-302\n",
      "Time:                        14:22:51   Log-Likelihood:                -774.21\n",
      "No. Observations:                1463   AIC:                             1558.\n",
      "Df Residuals:                    1458   BIC:                             1585.\n",
      "Df Model:                           4                                         \n",
      "Covariance Type:            nonrobust                                         \n",
      "======================================================================================\n",
      "                         coef    std err          t      P>|t|      [0.025      0.975]\n",
      "--------------------------------------------------------------------------------------\n",
      "Intercept              0.3902      5.476      0.071      0.943     -10.351      11.132\n",
      "is_genuine[T.True]    -1.1485      0.032    -35.516      0.000      -1.212      -1.085\n",
      "height_left            0.0273      0.039      0.702      0.483      -0.049       0.103\n",
      "height_right           0.0259      0.038      0.681      0.496      -0.049       0.101\n",
      "margin_up             -0.2134      0.059     -3.634      0.000      -0.329      -0.098\n",
      "==============================================================================\n",
      "Omnibus:                       22.292   Durbin-Watson:                   2.038\n",
      "Prob(Omnibus):                  0.000   Jarque-Bera (JB):               38.839\n",
      "Skew:                           0.059   Prob(JB):                     3.68e-09\n",
      "Kurtosis:                       3.790   Cond. No.                     7.49e+04\n",
      "==============================================================================\n",
      "\n",
      "Notes:\n",
      "[1] Standard Errors assume that the covariance matrix of the errors is correctly specified.\n",
      "[2] The condition number is large, 7.49e+04. This might indicate that there are\n",
      "strong multicollinearity or other numerical problems.\n"
     ]
    }
   ],
   "source": [
    "reg_multi = smf.ols('margin_low ~ is_genuine + height_left + height_right + margin_up', data = data).fit()\n",
    "print (reg_multi.summary())"
   ]
  },
  {
   "cell_type": "markdown",
   "id": "ac263249",
   "metadata": {},
   "source": [
    "On retire 'height_right' qui a une p-valeur de 0.5."
   ]
  },
  {
   "cell_type": "code",
   "execution_count": 11,
   "id": "105748d6",
   "metadata": {},
   "outputs": [
    {
     "name": "stdout",
     "output_type": "stream",
     "text": [
      "                            OLS Regression Results                            \n",
      "==============================================================================\n",
      "Dep. Variable:             margin_low   R-squared:                       0.617\n",
      "Model:                            OLS   Adj. R-squared:                  0.616\n",
      "Method:                 Least Squares   F-statistic:                     782.5\n",
      "Date:                Thu, 29 Jun 2023   Prob (F-statistic):          3.63e-303\n",
      "Time:                        14:22:51   Log-Likelihood:                -774.45\n",
      "No. Observations:                1463   AIC:                             1557.\n",
      "Df Residuals:                    1459   BIC:                             1578.\n",
      "Df Model:                           3                                         \n",
      "Covariance Type:            nonrobust                                         \n",
      "======================================================================================\n",
      "                         coef    std err          t      P>|t|      [0.025      0.975]\n",
      "--------------------------------------------------------------------------------------\n",
      "Intercept              2.9104      4.035      0.721      0.471      -5.005      10.826\n",
      "is_genuine[T.True]    -1.1566      0.030    -38.480      0.000      -1.216      -1.098\n",
      "height_left            0.0290      0.039      0.748      0.454      -0.047       0.105\n",
      "margin_up             -0.2129      0.059     -3.627      0.000      -0.328      -0.098\n",
      "==============================================================================\n",
      "Omnibus:                       22.470   Durbin-Watson:                   2.039\n",
      "Prob(Omnibus):                  0.000   Jarque-Bera (JB):               39.302\n",
      "Skew:                           0.058   Prob(JB):                     2.92e-09\n",
      "Kurtosis:                       3.795   Cond. No.                     3.91e+04\n",
      "==============================================================================\n",
      "\n",
      "Notes:\n",
      "[1] Standard Errors assume that the covariance matrix of the errors is correctly specified.\n",
      "[2] The condition number is large, 3.91e+04. This might indicate that there are\n",
      "strong multicollinearity or other numerical problems.\n"
     ]
    }
   ],
   "source": [
    "reg_multi = smf.ols('margin_low ~ is_genuine + height_left + margin_up', data = data).fit()\n",
    "print (reg_multi.summary())"
   ]
  },
  {
   "cell_type": "markdown",
   "id": "5a0d8f26",
   "metadata": {},
   "source": [
    "On retire 'height_left' qui a une p-valeur de 0.45."
   ]
  },
  {
   "cell_type": "code",
   "execution_count": 12,
   "id": "68109591",
   "metadata": {},
   "outputs": [
    {
     "name": "stdout",
     "output_type": "stream",
     "text": [
      "                            OLS Regression Results                            \n",
      "==============================================================================\n",
      "Dep. Variable:             margin_low   R-squared:                       0.617\n",
      "Model:                            OLS   Adj. R-squared:                  0.616\n",
      "Method:                 Least Squares   F-statistic:                     1174.\n",
      "Date:                Thu, 29 Jun 2023   Prob (F-statistic):          1.24e-304\n",
      "Time:                        14:22:51   Log-Likelihood:                -774.73\n",
      "No. Observations:                1463   AIC:                             1555.\n",
      "Df Residuals:                    1460   BIC:                             1571.\n",
      "Df Model:                           2                                         \n",
      "Covariance Type:            nonrobust                                         \n",
      "======================================================================================\n",
      "                         coef    std err          t      P>|t|      [0.025      0.975]\n",
      "--------------------------------------------------------------------------------------\n",
      "Intercept              5.9263      0.198     30.003      0.000       5.539       6.314\n",
      "is_genuine[T.True]    -1.1632      0.029    -40.477      0.000      -1.220      -1.107\n",
      "margin_up             -0.2119      0.059     -3.612      0.000      -0.327      -0.097\n",
      "==============================================================================\n",
      "Omnibus:                       22.365   Durbin-Watson:                   2.041\n",
      "Prob(Omnibus):                  0.000   Jarque-Bera (JB):               39.106\n",
      "Skew:                           0.057   Prob(JB):                     3.22e-09\n",
      "Kurtosis:                       3.793   Cond. No.                         65.0\n",
      "==============================================================================\n",
      "\n",
      "Notes:\n",
      "[1] Standard Errors assume that the covariance matrix of the errors is correctly specified.\n"
     ]
    }
   ],
   "source": [
    "reg_multi = smf.ols('margin_low ~ is_genuine + margin_up', data = data).fit()\n",
    "print (reg_multi.summary())"
   ]
  },
  {
   "cell_type": "markdown",
   "id": "0f317a9a",
   "metadata": {},
   "source": [
    "Tous les paramètres sont significatifs (p-values proches de 0). Quant au $R^{2}$, il vaut environ 0.62, tout comme le $R^{2}$ ajusté. On peut utiliser ce modèle à des fins de prévision."
   ]
  },
  {
   "cell_type": "code",
   "execution_count": 13,
   "id": "6b674c4c",
   "metadata": {},
   "outputs": [
    {
     "data": {
      "text/plain": [
       "is_genuine      0\n",
       "diagonal        0\n",
       "height_left     0\n",
       "height_right    0\n",
       "margin_low      0\n",
       "margin_up       0\n",
       "length          0\n",
       "dtype: int64"
      ]
     },
     "execution_count": 13,
     "metadata": {},
     "output_type": "execute_result"
    }
   ],
   "source": [
    "# On crée un dataframe avec les 2 paramètres\n",
    "model_var = data[['is_genuine', 'margin_up']].copy()\n",
    "\n",
    "# On crée la variable de la prédiction via la méthode 'predict'\n",
    "margin_low_prev = reg_multi.predict(model_var)\n",
    "\n",
    "# On remplace les valeurs manquantes par la valeur prédite\n",
    "data['margin_low'].fillna(margin_low_prev, inplace = True)\n",
    "\n",
    "# On vérifie les valeurs manquantes\n",
    "data.isnull().sum()"
   ]
  },
  {
   "cell_type": "markdown",
   "id": "2287761f",
   "metadata": {},
   "source": [
    "Nous n'avons plus de valeurs manquantes.\n",
    "\n",
    "-----\n",
    "## 4 Analyse exploratoire : vrais VS faux billets\n",
    "On convertit les valeurs booléennes en string pour utiliser des fonctions."
   ]
  },
  {
   "cell_type": "code",
   "execution_count": 14,
   "id": "cb098893",
   "metadata": {},
   "outputs": [
    {
     "data": {
      "text/plain": [
       "is_genuine       object\n",
       "diagonal        float64\n",
       "height_left     float64\n",
       "height_right    float64\n",
       "margin_low      float64\n",
       "margin_up       float64\n",
       "length          float64\n",
       "dtype: object"
      ]
     },
     "execution_count": 14,
     "metadata": {},
     "output_type": "execute_result"
    }
   ],
   "source": [
    "str_genui_data = data.copy()\n",
    "str_genui_data['is_genuine'] = str_genui_data['is_genuine'].map({True: 'True', False : 'False'})\n",
    "str_genui_data.dtypes"
   ]
  },
  {
   "cell_type": "markdown",
   "id": "5d4ab1f1",
   "metadata": {},
   "source": [
    "### 4.1 Diagonale"
   ]
  },
  {
   "cell_type": "code",
   "execution_count": 15,
   "id": "a8a10a6d",
   "metadata": {},
   "outputs": [
    {
     "data": {
      "text/plain": [
       "Text(0, 0.5, 'Type de billets')"
      ]
     },
     "execution_count": 15,
     "metadata": {},
     "output_type": "execute_result"
    },
    {
     "data": {
      "image/png": "[encoded data removed]",
      "text/plain": [
       "<Figure size 720x144 with 1 Axes>"
      ]
     },
     "metadata": {},
     "output_type": "display_data"
    }
   ],
   "source": [
    "sns.set()\n",
    "\n",
    "plt.figure(figsize=(10, 2))\n",
    "sns.boxplot(x= \"diagonal\", \n",
    "            y= \"is_genuine\",\n",
    "            data= str_genui_data);\n",
    "plt.xlabel('Diagonale en mm', fontsize = 14)\n",
    "plt.ylabel('Type de billets', fontsize = 14)"
   ]
  },
  {
   "cell_type": "markdown",
   "id": "e6d54bfc",
   "metadata": {},
   "source": [
    "### 4.3 Hauteur gauche"
   ]
  },
  {
   "cell_type": "code",
   "execution_count": 16,
   "id": "86127646",
   "metadata": {},
   "outputs": [
    {
     "data": {
      "text/plain": [
       "Text(0, 0.5, 'Type de billets')"
      ]
     },
     "execution_count": 16,
     "metadata": {},
     "output_type": "execute_result"
    },
    {
     "data": {
      "image/png": "[encoded data removed]",
      "text/plain": [
       "<Figure size 720x144 with 1 Axes>"
      ]
     },
     "metadata": {},
     "output_type": "display_data"
    }
   ],
   "source": [
    "plt.figure(figsize=(10, 2))\n",
    "sns.boxplot(x= \"height_left\", \n",
    "            y= \"is_genuine\",\n",
    "            data= str_genui_data);\n",
    "plt.xlabel('Hauteur gauche en mm', fontsize = 14)\n",
    "plt.ylabel('Type de billets', fontsize = 14)"
   ]
  },
  {
   "cell_type": "markdown",
   "id": "3a14dd62",
   "metadata": {},
   "source": [
    "### 4.4 Hauteur droite"
   ]
  },
  {
   "cell_type": "code",
   "execution_count": 17,
   "id": "b4c807ca",
   "metadata": {},
   "outputs": [
    {
     "data": {
      "text/plain": [
       "Text(0, 0.5, 'Type de billets')"
      ]
     },
     "execution_count": 17,
     "metadata": {},
     "output_type": "execute_result"
    },
    {
     "data": {
      "image/png": "[encoded data removed]",
      "text/plain": [
       "<Figure size 720x144 with 1 Axes>"
      ]
     },
     "metadata": {},
     "output_type": "display_data"
    }
   ],
   "source": [
    "plt.figure(figsize=(10, 2))\n",
    "sns.boxplot(x= \"height_right\", \n",
    "            y= \"is_genuine\",\n",
    "            data= str_genui_data);\n",
    "plt.xlabel('Hauteur droite en mm', fontsize = 14)\n",
    "plt.ylabel('Type de billets', fontsize = 14)"
   ]
  },
  {
   "cell_type": "markdown",
   "id": "66debadd",
   "metadata": {},
   "source": [
    "### 4.5 Marge du bas"
   ]
  },
  {
   "cell_type": "code",
   "execution_count": 18,
   "id": "1814430c",
   "metadata": {},
   "outputs": [
    {
     "data": {
      "text/plain": [
       "Text(0, 0.5, 'Type de billets')"
      ]
     },
     "execution_count": 18,
     "metadata": {},
     "output_type": "execute_result"
    },
    {
     "data": {
      "image/png": "[encoded data removed]",
      "text/plain": [
       "<Figure size 720x144 with 1 Axes>"
      ]
     },
     "metadata": {},
     "output_type": "display_data"
    }
   ],
   "source": [
    "plt.figure(figsize=(10, 2))\n",
    "sns.boxplot(x= \"margin_low\", \n",
    "            y= \"is_genuine\",\n",
    "            data= str_genui_data);\n",
    "plt.xlabel('Marge bas en mm', fontsize = 14)\n",
    "plt.ylabel('Type de billets', fontsize = 14)"
   ]
  },
  {
   "cell_type": "markdown",
   "id": "f6b88774",
   "metadata": {},
   "source": [
    "### 4.6 Marge haut"
   ]
  },
  {
   "cell_type": "code",
   "execution_count": 19,
   "id": "fca51118",
   "metadata": {},
   "outputs": [
    {
     "data": {
      "text/plain": [
       "Text(0, 0.5, 'Type de billets')"
      ]
     },
     "execution_count": 19,
     "metadata": {},
     "output_type": "execute_result"
    },
    {
     "data": {
      "image/png": "[encoded data removed]",
      "text/plain": [
       "<Figure size 720x144 with 1 Axes>"
      ]
     },
     "metadata": {},
     "output_type": "display_data"
    }
   ],
   "source": [
    "plt.figure(figsize=(10, 2))\n",
    "sns.boxplot(x= \"margin_up\", \n",
    "            y= \"is_genuine\",\n",
    "            data= str_genui_data);\n",
    "plt.xlabel('Marge haut en mm', fontsize = 14)\n",
    "plt.ylabel('Type de billets', fontsize = 14)"
   ]
  },
  {
   "cell_type": "markdown",
   "id": "e21f70b4",
   "metadata": {},
   "source": [
    "### 4.7 Longueur"
   ]
  },
  {
   "cell_type": "code",
   "execution_count": 20,
   "id": "055ac39a",
   "metadata": {},
   "outputs": [
    {
     "data": {
      "text/plain": [
       "Text(0, 0.5, 'Type de billets')"
      ]
     },
     "execution_count": 20,
     "metadata": {},
     "output_type": "execute_result"
    },
    {
     "data": {
      "image/png": "[encoded data removed]",
      "text/plain": [
       "<Figure size 720x144 with 1 Axes>"
      ]
     },
     "metadata": {},
     "output_type": "display_data"
    }
   ],
   "source": [
    "plt.figure(figsize=(10, 2))\n",
    "sns.boxplot(x= \"length\", \n",
    "            y= \"is_genuine\",\n",
    "            data= str_genui_data);\n",
    "plt.xlabel('Longueur en mm', fontsize = 14)\n",
    "plt.ylabel('Type de billets', fontsize = 14)"
   ]
  },
  {
   "cell_type": "markdown",
   "id": "b4ed5f01",
   "metadata": {},
   "source": [
    "-----\n",
    "## 5 Algorithmes de détection\n",
    "### 5.1 Régression logistique\n",
    "On effectue une régression logistique de 'is_genuine'.\n",
    "\n",
    "On importe d'abord les librairies."
   ]
  },
  {
   "cell_type": "code",
   "execution_count": 21,
   "id": "23cded07",
   "metadata": {},
   "outputs": [],
   "source": [
    "from sklearn.model_selection import train_test_split\n",
    "from sklearn.metrics import roc_curve, auc, confusion_matrix\n",
    "from sklearn.linear_model import LogisticRegression"
   ]
  },
  {
   "cell_type": "markdown",
   "id": "3c3f826b",
   "metadata": {},
   "source": [
    "#### 5.1.1 Préparation des données\n",
    "On crée un dataframe où les valeurs de 'is_genuine' sont convertis en nombres entiers."
   ]
  },
  {
   "cell_type": "code",
   "execution_count": 22,
   "id": "18eeae6e",
   "metadata": {},
   "outputs": [
    {
     "data": {
      "text/plain": [
       "is_genuine        int64\n",
       "diagonal        float64\n",
       "height_left     float64\n",
       "height_right    float64\n",
       "margin_low      float64\n",
       "margin_up       float64\n",
       "length          float64\n",
       "dtype: object"
      ]
     },
     "execution_count": 22,
     "metadata": {},
     "output_type": "execute_result"
    }
   ],
   "source": [
    "int_genui_data = str_genui_data.copy()\n",
    "int_genui_data['is_genuine'] = int_genui_data['is_genuine'].map({'True': 0, 'False' : 1})\n",
    "int_genui_data.dtypes"
   ]
  },
  {
   "cell_type": "markdown",
   "id": "86eb1435",
   "metadata": {},
   "source": [
    "On sépare x, la variable à expliquer et y, les variables explicatives."
   ]
  },
  {
   "cell_type": "code",
   "execution_count": 23,
   "id": "0798fcd5",
   "metadata": {},
   "outputs": [],
   "source": [
    "X = int_genui_data.drop(columns = \"is_genuine\")\n",
    "y = int_genui_data.is_genuine"
   ]
  },
  {
   "cell_type": "markdown",
   "id": "faa35a56",
   "metadata": {},
   "source": [
    "#### 5.1.2 Partage de l'échantillon pour le test et l'entraînement\n",
    "On spécifie le % de données que nous voulons par rapport au train (20 % dans le test et 80 % dans le train) et le random_state (la fonction s'éxécute toujours de la même façon et passe toujours le même split)."
   ]
  },
  {
   "cell_type": "code",
   "execution_count": 24,
   "id": "c63e8630",
   "metadata": {},
   "outputs": [
    {
     "name": "stdout",
     "output_type": "stream",
     "text": [
      "Nous avons X_train de forme (1200, 6) et y_train de forme (1200,) \n",
      "Nous avons X_test de forme (300, 6) et y_test de forme (300,) \n"
     ]
    }
   ],
   "source": [
    "X_train, X_test, y_train, y_test = train_test_split(X, y, test_size = 0.2, random_state = 42)\n",
    "\n",
    "# On vérifie leur forme\n",
    "print (f\"Nous avons X_train de forme {X_train.shape} et y_train de forme {y_train.shape} \")\n",
    "print (f\"Nous avons X_test de forme {X_test.shape} et y_test de forme {y_test.shape} \")"
   ]
  },
  {
   "cell_type": "markdown",
   "id": "811fa26c",
   "metadata": {},
   "source": [
    "#### 5.1.3 Entraînement du modèle\n",
    "On instancie un estimateur, c'est-à-dire l'algorithme qui va permettre de comprendre quel modèle utiliser dans les données."
   ]
  },
  {
   "cell_type": "code",
   "execution_count": 25,
   "id": "b6effcf7",
   "metadata": {},
   "outputs": [
    {
     "data": {
      "text/plain": [
       "LogisticRegression(solver='liblinear')"
      ]
     },
     "execution_count": 25,
     "metadata": {},
     "output_type": "execute_result"
    }
   ],
   "source": [
    "estimator = LogisticRegression(solver = 'liblinear')\n",
    "\n",
    "# On entraîne l'estimateur\n",
    "estimator.fit(X_train, y_train)"
   ]
  },
  {
   "cell_type": "markdown",
   "id": "6a6ea5bb",
   "metadata": {},
   "source": [
    "On calcule notre vecteur de prédiction."
   ]
  },
  {
   "cell_type": "code",
   "execution_count": 26,
   "id": "a806781c",
   "metadata": {},
   "outputs": [
    {
     "data": {
      "text/plain": [
       "array([1, 1, 0, 0, 0, 0, 1, 0, 1, 0], dtype=int64)"
      ]
     },
     "execution_count": 26,
     "metadata": {},
     "output_type": "execute_result"
    }
   ],
   "source": [
    "y_pred = estimator.predict(X_test)\n",
    "y_pred[:10]"
   ]
  },
  {
   "cell_type": "markdown",
   "id": "f40a3dac",
   "metadata": {},
   "source": [
    "La régression logistique (estimator = LogisticRegression(solver = 'liblinear')) peut également nous permettre d'évaluer la probabilité d'appartenance à une classe.\n",
    "\n",
    "On appelle la méthode predict_proba."
   ]
  },
  {
   "cell_type": "code",
   "execution_count": 27,
   "id": "dfbb0881",
   "metadata": {},
   "outputs": [
    {
     "data": {
      "text/plain": [
       "array([[0.  , 1.  ],\n",
       "       [0.01, 0.99],\n",
       "       [1.  , 0.  ],\n",
       "       [0.99, 0.01],\n",
       "       [1.  , 0.  ],\n",
       "       [1.  , 0.  ],\n",
       "       [0.02, 0.98],\n",
       "       [1.  , 0.  ],\n",
       "       [0.01, 0.99],\n",
       "       [1.  , 0.  ]])"
      ]
     },
     "execution_count": 27,
     "metadata": {},
     "output_type": "execute_result"
    }
   ],
   "source": [
    "y_prob = estimator.predict_proba(X_test).round(2)\n",
    "y_prob[:10]"
   ]
  },
  {
   "cell_type": "markdown",
   "id": "9bbcc436",
   "metadata": {},
   "source": [
    "On a une matrice à 2 colonnes où chaque colonne représente la probabilité/confiance du modèle que tel individu appartient à telle classe.\n",
    "\n",
    "Exemple : pour le 1er individu, le modèle estime à 0% la probabilité d'appartenir à la classe 0 et 100% la probabilité d'appartenir à la classe 1.\n",
    "\n",
    "Pour le 2ème individu, c'est 0.1% d'appartenance à la classe 0 et 0.99% d'appartenance à la classe 1.\n",
    "\n",
    "On calcule 2 scores: la performance de l'estimateur sur les données de train et de test."
   ]
  },
  {
   "cell_type": "code",
   "execution_count": 28,
   "id": "6827875b",
   "metadata": {},
   "outputs": [
    {
     "name": "stdout",
     "output_type": "stream",
     "text": [
      "score train : 0.9908 score test : 0.99\n"
     ]
    }
   ],
   "source": [
    "tr_score = estimator.score(X_train, y_train).round(4)\n",
    "te_score = estimator.score(X_test, y_test).round(4)\n",
    "\n",
    "print (f\"score train : {tr_score} score test : {te_score}\")"
   ]
  },
  {
   "cell_type": "markdown",
   "id": "945ff1c1",
   "metadata": {},
   "source": [
    "Nos scores ont 99% d'accuracy sur le train et sur le test. Nos modèles fonctionnent bien.\n",
    "\n",
    "En général, le score de train est meilleur que le score de test.\n",
    "\n",
    "D'autres scores seront calculés (pour le k-means), on fait une fonction score."
   ]
  },
  {
   "cell_type": "code",
   "execution_count": 29,
   "id": "ef17352e",
   "metadata": {},
   "outputs": [],
   "source": [
    "# la fonction s'appelle score et prend en argument un estimateur\n",
    "def score(estimator) :\n",
    "    # les 3 guillements référencent une docstring et laisse une indication sur ce que fait la fonction\n",
    "    \"\"\"compute and print train scrore and test score\"\"\"\n",
    "    \n",
    "    # On copie-colle la cellule précédente\n",
    "    tr_score = estimator.score(X_train, y_train).round(4)\n",
    "    te_score = estimator.score(X_test, y_test).round(4)\n",
    "    \n",
    "    print (f\"score train : {tr_score} score test : {te_score} \")"
   ]
  },
  {
   "cell_type": "markdown",
   "id": "c411cecf",
   "metadata": {},
   "source": [
    "On teste la fonction."
   ]
  },
  {
   "cell_type": "code",
   "execution_count": 30,
   "id": "c2eee381",
   "metadata": {},
   "outputs": [
    {
     "name": "stdout",
     "output_type": "stream",
     "text": [
      "score train : 0.9908 score test : 0.99 \n"
     ]
    }
   ],
   "source": [
    "score(estimator)"
   ]
  },
  {
   "cell_type": "markdown",
   "id": "8881741a",
   "metadata": {},
   "source": [
    "#### 5.1.4 Test du modèle\n",
    "On veut tester la qualité de notre modèle en comparant les données réelles pour une variable cible à celles prédites par le modèle.\n",
    "\n",
    "On utilise une matrice de confusion (tableau de contingence) qu'on appelle sur y_test et y_pred et on regarde les différences entre les valeurs pred_1 (en réalité 0) ou les valeurs pred_0 (en réalité 1)."
   ]
  },
  {
   "cell_type": "code",
   "execution_count": 31,
   "id": "08fcf1d6",
   "metadata": {},
   "outputs": [
    {
     "data": {
      "text/plain": [
       "array([[190,   0],\n",
       "       [  3, 107]], dtype=int64)"
      ]
     },
     "execution_count": 31,
     "metadata": {},
     "output_type": "execute_result"
    }
   ],
   "source": [
    "mat = confusion_matrix(y_test, y_pred)\n",
    "mat"
   ]
  },
  {
   "cell_type": "markdown",
   "id": "bdcbbef4",
   "metadata": {},
   "source": [
    "On transforme la matrice en dataframe et on renomme les colonnes et les index."
   ]
  },
  {
   "cell_type": "code",
   "execution_count": 32,
   "id": "dcc6e64b",
   "metadata": {},
   "outputs": [
    {
     "data": {
      "text/html": [
       "<div>\n",
       "<style scoped>\n",
       "    .dataframe tbody tr th:only-of-type {\n",
       "        vertical-align: middle;\n",
       "    }\n",
       "\n",
       "    .dataframe tbody tr th {\n",
       "        vertical-align: top;\n",
       "    }\n",
       "\n",
       "    .dataframe thead th {\n",
       "        text-align: right;\n",
       "    }\n",
       "</style>\n",
       "<table border=\"1\" class=\"dataframe\">\n",
       "  <thead>\n",
       "    <tr style=\"text-align: right;\">\n",
       "      <th></th>\n",
       "      <th>pred_0</th>\n",
       "      <th>pred_1</th>\n",
       "    </tr>\n",
       "  </thead>\n",
       "  <tbody>\n",
       "    <tr>\n",
       "      <th>test_0</th>\n",
       "      <td>190</td>\n",
       "      <td>0</td>\n",
       "    </tr>\n",
       "    <tr>\n",
       "      <th>test_1</th>\n",
       "      <td>3</td>\n",
       "      <td>107</td>\n",
       "    </tr>\n",
       "  </tbody>\n",
       "</table>\n",
       "</div>"
      ],
      "text/plain": [
       "        pred_0  pred_1\n",
       "test_0     190       0\n",
       "test_1       3     107"
      ]
     },
     "execution_count": 32,
     "metadata": {},
     "output_type": "execute_result"
    }
   ],
   "source": [
    "mat = pd.DataFrame(mat)\n",
    "mat.columns = [f\"pred_{i}\" for i in mat.columns]\n",
    "mat.index = [f\"test_{i}\" for i in mat.index]\n",
    "mat"
   ]
  },
  {
   "cell_type": "markdown",
   "id": "dc527acc",
   "metadata": {},
   "source": [
    "La matrice nous montre que:\n",
    "- sur la valeur 0, on a prédit 190 fois la valeur 0 et 0 fois la valeur 1;\n",
    "- sur la valeur 1, on a prédit 3 fois la valeur 0 et 107 fois la valeur 1.\n",
    "\n",
    "D'autres matrices de confusion seront utilisées (pour le k-means), on créé une fonction 'confusion'."
   ]
  },
  {
   "cell_type": "code",
   "execution_count": 33,
   "id": "bc432f1d",
   "metadata": {},
   "outputs": [],
   "source": [
    "def confusion (y_test, y_pred) :\n",
    "    \"\"\" display a fancy confusion matrix\"\"\"\n",
    "    \n",
    "    mat = confusion_matrix(y_test, y_pred)\n",
    "    mat = pd.DataFrame(mat)\n",
    "    mat.columns = [f\"pred_{i}\" for i in mat.columns]\n",
    "    mat.index = [f\"test_{i}\" for i in mat.index]\n",
    "    \n",
    "    return mat"
   ]
  },
  {
   "cell_type": "markdown",
   "id": "8ea939ad",
   "metadata": {},
   "source": [
    "On teste la fonction."
   ]
  },
  {
   "cell_type": "code",
   "execution_count": 34,
   "id": "96f170d6",
   "metadata": {},
   "outputs": [
    {
     "data": {
      "text/html": [
       "<div>\n",
       "<style scoped>\n",
       "    .dataframe tbody tr th:only-of-type {\n",
       "        vertical-align: middle;\n",
       "    }\n",
       "\n",
       "    .dataframe tbody tr th {\n",
       "        vertical-align: top;\n",
       "    }\n",
       "\n",
       "    .dataframe thead th {\n",
       "        text-align: right;\n",
       "    }\n",
       "</style>\n",
       "<table border=\"1\" class=\"dataframe\">\n",
       "  <thead>\n",
       "    <tr style=\"text-align: right;\">\n",
       "      <th></th>\n",
       "      <th>pred_0</th>\n",
       "      <th>pred_1</th>\n",
       "    </tr>\n",
       "  </thead>\n",
       "  <tbody>\n",
       "    <tr>\n",
       "      <th>test_0</th>\n",
       "      <td>190</td>\n",
       "      <td>0</td>\n",
       "    </tr>\n",
       "    <tr>\n",
       "      <th>test_1</th>\n",
       "      <td>3</td>\n",
       "      <td>107</td>\n",
       "    </tr>\n",
       "  </tbody>\n",
       "</table>\n",
       "</div>"
      ],
      "text/plain": [
       "        pred_0  pred_1\n",
       "test_0     190       0\n",
       "test_1       3     107"
      ]
     },
     "execution_count": 34,
     "metadata": {},
     "output_type": "execute_result"
    }
   ],
   "source": [
    "confusion(y_test, y_pred)"
   ]
  },
  {
   "cell_type": "markdown",
   "id": "433eb330",
   "metadata": {},
   "source": [
    "On calcule le rappel, la précision, le F1 score..."
   ]
  },
  {
   "cell_type": "code",
   "execution_count": 35,
   "id": "312c8d4f",
   "metadata": {},
   "outputs": [
    {
     "name": "stdout",
     "output_type": "stream",
     "text": [
      "0.99\n"
     ]
    }
   ],
   "source": [
    "false_positive_rate, true_positive_rate, thresholds = roc_curve(y_test, y_pred)\n",
    "roc_auc = auc(false_positive_rate, true_positive_rate).round(2)\n",
    "print(roc_auc)"
   ]
  },
  {
   "cell_type": "code",
   "execution_count": 36,
   "id": "9bc8304f",
   "metadata": {},
   "outputs": [
    {
     "data": {
      "image/png": "[encoded data removed]",
      "text/plain": [
       "<Figure size 720x432 with 1 Axes>"
      ]
     },
     "metadata": {},
     "output_type": "display_data"
    }
   ],
   "source": [
    "plt.figure(figsize = (10, 6))\n",
    "plt.title('Receiver Operating Characteristic')\n",
    "plt.plot(false_positive_rate, true_positive_rate, color ='red', label = 'AUC = %0.2f' % roc_auc)\n",
    "plt.legend(loc= 'lower right')\n",
    "plt.plot([0, 1], [0, 1], linestyle = '--')\n",
    "plt.axis('tight')\n",
    "plt.ylabel('True Positive Rate')\n",
    "plt.xlabel('False Positive Rate')\n",
    "plt.show()"
   ]
  },
  {
   "cell_type": "markdown",
   "id": "f1b5dbd4",
   "metadata": {},
   "source": [
    "### 5.2 K-means\n",
    "On importe d'abord les librairies."
   ]
  },
  {
   "cell_type": "code",
   "execution_count": 37,
   "id": "c845a4c5",
   "metadata": {},
   "outputs": [],
   "source": [
    "from sklearn.cluster import KMeans"
   ]
  },
  {
   "cell_type": "markdown",
   "id": "eb411a3d",
   "metadata": {},
   "source": [
    "#### 5.2.1 Nombre de clusters\n",
    "On définit le nombre de clusters par la méthode du coude."
   ]
  },
  {
   "cell_type": "code",
   "execution_count": 38,
   "id": "c9dbdb9c",
   "metadata": {},
   "outputs": [
    {
     "data": {
      "text/plain": [
       "[1, 2, 3, 4, 5, 6, 7, 8, 9]"
      ]
     },
     "execution_count": 38,
     "metadata": {},
     "output_type": "execute_result"
    }
   ],
   "source": [
    "# On stocke nos inerties\n",
    "intertia = []\n",
    "\n",
    "# On définit la liste du nombre de clusters que l'on veut tester, soit 10\n",
    "k_list = range(1, 10)\n",
    "list(k_list)"
   ]
  },
  {
   "cell_type": "code",
   "execution_count": 39,
   "id": "3480f828",
   "metadata": {},
   "outputs": [
    {
     "name": "stderr",
     "output_type": "stream",
     "text": [
      "C:\\Users\\danie\\anaconda3\\lib\\site-packages\\sklearn\\cluster\\_kmeans.py:1036: UserWarning: KMeans is known to have a memory leak on Windows with MKL, when there are less chunks than available threads. You can avoid it by setting the environment variable OMP_NUM_THREADS=6.\n",
      "  warnings.warn(\n"
     ]
    },
    {
     "data": {
      "text/plain": [
       "[2307.9351897628126,\n",
       " 969.5337101530758,\n",
       " 860.1217965033517,\n",
       " 771.8253888246994,\n",
       " 709.7242485215451,\n",
       " 665.6989841107157,\n",
       " 629.1554193847675,\n",
       " 594.6097005887084,\n",
       " 571.4652637633998]"
      ]
     },
     "execution_count": 39,
     "metadata": {},
     "output_type": "execute_result"
    }
   ],
   "source": [
    "# Pour chaque valeur de k, on entraine un k-means spécifique et on stocke son inertie\n",
    "for i in k_list :\n",
    "    kmeans = KMeans(n_clusters=i)\n",
    "    kmeans.fit(X) \n",
    "    intertia.append(kmeans.inertia_)\n",
    "\n",
    "# La liste d'inerties\n",
    "intertia"
   ]
  },
  {
   "cell_type": "markdown",
   "id": "ac36001b",
   "metadata": {},
   "source": [
    "On affiche le graphique de l'inertie intraclasse selon le nombre de clusters."
   ]
  },
  {
   "cell_type": "code",
   "execution_count": 40,
   "id": "5264f577",
   "metadata": {},
   "outputs": [
    {
     "data": {
      "image/png": "[encoded data removed]",
      "text/plain": [
       "<Figure size 864x432 with 1 Axes>"
      ]
     },
     "metadata": {},
     "output_type": "display_data"
    }
   ],
   "source": [
    "fig, ax = plt.subplots(1,1,figsize=(12,6))\n",
    "\n",
    "ax.set_ylabel(\"Inertie\", fontsize = 14)\n",
    "ax.set_xlabel(\"Nombre de clusters\", fontsize = 14)\n",
    "ax = plt.plot(k_list, intertia)"
   ]
  },
  {
   "cell_type": "markdown",
   "id": "ba36f307",
   "metadata": {},
   "source": [
    "On a une cassure à 2 clusters.\n",
    "#### 5.2.2 Clusters"
   ]
  },
  {
   "cell_type": "code",
   "execution_count": 41,
   "id": "ad44140a",
   "metadata": {},
   "outputs": [
    {
     "data": {
      "text/plain": [
       "KMeans(n_clusters=2)"
      ]
     },
     "execution_count": 41,
     "metadata": {},
     "output_type": "execute_result"
    }
   ],
   "source": [
    "# On entraîne l'estimateur\n",
    "kmeans = KMeans(n_clusters=2)\n",
    "kmeans.fit(X_train, y_train)"
   ]
  },
  {
   "cell_type": "code",
   "execution_count": 42,
   "id": "515298e9",
   "metadata": {},
   "outputs": [
    {
     "data": {
      "text/plain": [
       "array([0, 0, 1, ..., 0, 1, 1])"
      ]
     },
     "execution_count": 42,
     "metadata": {},
     "output_type": "execute_result"
    }
   ],
   "source": [
    "# On stocke les labels dans une variable\n",
    "labels = kmeans.labels_\n",
    "labels"
   ]
  },
  {
   "cell_type": "markdown",
   "id": "f11aa486",
   "metadata": {},
   "source": [
    "#### 5.2.3 Entraînement du modèle\n",
    "On fait une prédiction sur X_test."
   ]
  },
  {
   "cell_type": "code",
   "execution_count": 43,
   "id": "1e111581",
   "metadata": {},
   "outputs": [
    {
     "name": "stdout",
     "output_type": "stream",
     "text": [
      "      actual  prediction\n",
      "1116       1           1\n",
      "1368       1           1\n",
      "422        0           0\n",
      "413        0           0\n",
      "451        0           0\n",
      "...      ...         ...\n",
      "983        0           0\n",
      "799        0           0\n",
      "1265       1           1\n",
      "1150       1           1\n",
      "824        0           0\n",
      "\n",
      "[300 rows x 2 columns]\n"
     ]
    }
   ],
   "source": [
    "prediction = kmeans.predict(X_test)\n",
    "\n",
    "pred_df = pd.DataFrame({'actual' : y_test, 'prediction' : prediction})\n",
    "\n",
    "print (pred_df)"
   ]
  },
  {
   "cell_type": "code",
   "execution_count": 44,
   "id": "bb4026e6",
   "metadata": {},
   "outputs": [
    {
     "name": "stdout",
     "output_type": "stream",
     "text": [
      "0.98\n"
     ]
    }
   ],
   "source": [
    "# On réinitialise l'index d'y_test pour pouvoir faire des calculs sur le nombre d'individus et la précision\n",
    "y_test = y_test.reset_index(drop=True)\n",
    "\n",
    "correct = 0\n",
    "\n",
    "for i in range(len(y_test)):\n",
    "    if prediction[i] == y_test[i]:\n",
    "        correct += 1\n",
    "        \n",
    "print(correct/len(y_test))"
   ]
  },
  {
   "cell_type": "markdown",
   "id": "8d9c0cc5",
   "metadata": {},
   "source": [
    "Nous avons 98% d'accuracy.\n",
    "#### 5.2.4 Test du modèle\n",
    "On fait une matrice de confusion qu'on apelle sur les valeurs réelles 'y' et et les valeurs prédites 'prediction'."
   ]
  },
  {
   "cell_type": "code",
   "execution_count": 45,
   "id": "42545402",
   "metadata": {},
   "outputs": [
    {
     "data": {
      "text/plain": [
       "array([[190,   0],\n",
       "       [  6, 104]], dtype=int64)"
      ]
     },
     "execution_count": 45,
     "metadata": {},
     "output_type": "execute_result"
    }
   ],
   "source": [
    "kmeans_mat = confusion_matrix(y_test, prediction)\n",
    "kmeans_mat"
   ]
  },
  {
   "cell_type": "markdown",
   "id": "58e3989d",
   "metadata": {},
   "source": [
    "On transforme la matrice en dataframe et on renomme les colonnes et les index."
   ]
  },
  {
   "cell_type": "code",
   "execution_count": 46,
   "id": "63721ce5",
   "metadata": {},
   "outputs": [
    {
     "data": {
      "text/html": [
       "<div>\n",
       "<style scoped>\n",
       "    .dataframe tbody tr th:only-of-type {\n",
       "        vertical-align: middle;\n",
       "    }\n",
       "\n",
       "    .dataframe tbody tr th {\n",
       "        vertical-align: top;\n",
       "    }\n",
       "\n",
       "    .dataframe thead th {\n",
       "        text-align: right;\n",
       "    }\n",
       "</style>\n",
       "<table border=\"1\" class=\"dataframe\">\n",
       "  <thead>\n",
       "    <tr style=\"text-align: right;\">\n",
       "      <th></th>\n",
       "      <th>pred_0</th>\n",
       "      <th>pred_1</th>\n",
       "    </tr>\n",
       "  </thead>\n",
       "  <tbody>\n",
       "    <tr>\n",
       "      <th>test_0</th>\n",
       "      <td>190</td>\n",
       "      <td>0</td>\n",
       "    </tr>\n",
       "    <tr>\n",
       "      <th>test_1</th>\n",
       "      <td>6</td>\n",
       "      <td>104</td>\n",
       "    </tr>\n",
       "  </tbody>\n",
       "</table>\n",
       "</div>"
      ],
      "text/plain": [
       "        pred_0  pred_1\n",
       "test_0     190       0\n",
       "test_1       6     104"
      ]
     },
     "execution_count": 46,
     "metadata": {},
     "output_type": "execute_result"
    }
   ],
   "source": [
    "kmeans_mat = pd.DataFrame(kmeans_mat)\n",
    "kmeans_mat.columns = [f\"pred_{i}\" for i in kmeans_mat.columns]\n",
    "kmeans_mat.index = [f\"test_{i}\" for i in kmeans_mat.index]\n",
    "kmeans_mat"
   ]
  },
  {
   "cell_type": "markdown",
   "id": "7e5fd758",
   "metadata": {},
   "source": [
    "Les résultats sont légèrements moins bons que ceux de la régression logistique.\n",
    "\n",
    "-----\n",
    "## 5 Application du modèle\n",
    "On applique le modèle choisi (régression logistique) sur le dataset 'billets_productions'.\n",
    "\n",
    "On charge les données."
   ]
  },
  {
   "cell_type": "code",
   "execution_count": 47,
   "id": "a9be1f47",
   "metadata": {},
   "outputs": [
    {
     "name": "stdout",
     "output_type": "stream",
     "text": [
      "(5, 7)\n"
     ]
    },
    {
     "data": {
      "text/html": [
       "<div>\n",
       "<style scoped>\n",
       "    .dataframe tbody tr th:only-of-type {\n",
       "        vertical-align: middle;\n",
       "    }\n",
       "\n",
       "    .dataframe tbody tr th {\n",
       "        vertical-align: top;\n",
       "    }\n",
       "\n",
       "    .dataframe thead th {\n",
       "        text-align: right;\n",
       "    }\n",
       "</style>\n",
       "<table border=\"1\" class=\"dataframe\">\n",
       "  <thead>\n",
       "    <tr style=\"text-align: right;\">\n",
       "      <th></th>\n",
       "      <th>diagonal</th>\n",
       "      <th>height_left</th>\n",
       "      <th>height_right</th>\n",
       "      <th>margin_low</th>\n",
       "      <th>margin_up</th>\n",
       "      <th>length</th>\n",
       "      <th>id</th>\n",
       "    </tr>\n",
       "  </thead>\n",
       "  <tbody>\n",
       "    <tr>\n",
       "      <th>0</th>\n",
       "      <td>171.76</td>\n",
       "      <td>104.01</td>\n",
       "      <td>103.54</td>\n",
       "      <td>5.21</td>\n",
       "      <td>3.30</td>\n",
       "      <td>111.42</td>\n",
       "      <td>A_1</td>\n",
       "    </tr>\n",
       "    <tr>\n",
       "      <th>1</th>\n",
       "      <td>171.87</td>\n",
       "      <td>104.17</td>\n",
       "      <td>104.13</td>\n",
       "      <td>6.00</td>\n",
       "      <td>3.31</td>\n",
       "      <td>112.09</td>\n",
       "      <td>A_2</td>\n",
       "    </tr>\n",
       "    <tr>\n",
       "      <th>2</th>\n",
       "      <td>172.00</td>\n",
       "      <td>104.58</td>\n",
       "      <td>104.29</td>\n",
       "      <td>4.99</td>\n",
       "      <td>3.39</td>\n",
       "      <td>111.57</td>\n",
       "      <td>A_3</td>\n",
       "    </tr>\n",
       "    <tr>\n",
       "      <th>3</th>\n",
       "      <td>172.49</td>\n",
       "      <td>104.55</td>\n",
       "      <td>104.34</td>\n",
       "      <td>4.44</td>\n",
       "      <td>3.03</td>\n",
       "      <td>113.20</td>\n",
       "      <td>A_4</td>\n",
       "    </tr>\n",
       "    <tr>\n",
       "      <th>4</th>\n",
       "      <td>171.65</td>\n",
       "      <td>103.63</td>\n",
       "      <td>103.56</td>\n",
       "      <td>3.77</td>\n",
       "      <td>3.16</td>\n",
       "      <td>113.33</td>\n",
       "      <td>A_5</td>\n",
       "    </tr>\n",
       "  </tbody>\n",
       "</table>\n",
       "</div>"
      ],
      "text/plain": [
       "   diagonal  height_left  height_right  margin_low  margin_up  length   id\n",
       "0    171.76       104.01        103.54        5.21       3.30  111.42  A_1\n",
       "1    171.87       104.17        104.13        6.00       3.31  112.09  A_2\n",
       "2    172.00       104.58        104.29        4.99       3.39  111.57  A_3\n",
       "3    172.49       104.55        104.34        4.44       3.03  113.20  A_4\n",
       "4    171.65       103.63        103.56        3.77       3.16  113.33  A_5"
      ]
     },
     "execution_count": 47,
     "metadata": {},
     "output_type": "execute_result"
    }
   ],
   "source": [
    "prod_data = pd.read_csv('billets_production.csv')\n",
    "print (prod_data.shape)\n",
    "prod_data.head()"
   ]
  },
  {
   "cell_type": "markdown",
   "id": "a3cc9fc0",
   "metadata": {},
   "source": [
    "On supprime la colonne 'id' pour pouvoir utiliser notre modèle."
   ]
  },
  {
   "cell_type": "code",
   "execution_count": 48,
   "id": "dff50526",
   "metadata": {},
   "outputs": [
    {
     "data": {
      "text/html": [
       "<div>\n",
       "<style scoped>\n",
       "    .dataframe tbody tr th:only-of-type {\n",
       "        vertical-align: middle;\n",
       "    }\n",
       "\n",
       "    .dataframe tbody tr th {\n",
       "        vertical-align: top;\n",
       "    }\n",
       "\n",
       "    .dataframe thead th {\n",
       "        text-align: right;\n",
       "    }\n",
       "</style>\n",
       "<table border=\"1\" class=\"dataframe\">\n",
       "  <thead>\n",
       "    <tr style=\"text-align: right;\">\n",
       "      <th></th>\n",
       "      <th>diagonal</th>\n",
       "      <th>height_left</th>\n",
       "      <th>height_right</th>\n",
       "      <th>margin_low</th>\n",
       "      <th>margin_up</th>\n",
       "      <th>length</th>\n",
       "    </tr>\n",
       "  </thead>\n",
       "  <tbody>\n",
       "    <tr>\n",
       "      <th>0</th>\n",
       "      <td>171.76</td>\n",
       "      <td>104.01</td>\n",
       "      <td>103.54</td>\n",
       "      <td>5.21</td>\n",
       "      <td>3.30</td>\n",
       "      <td>111.42</td>\n",
       "    </tr>\n",
       "    <tr>\n",
       "      <th>1</th>\n",
       "      <td>171.87</td>\n",
       "      <td>104.17</td>\n",
       "      <td>104.13</td>\n",
       "      <td>6.00</td>\n",
       "      <td>3.31</td>\n",
       "      <td>112.09</td>\n",
       "    </tr>\n",
       "    <tr>\n",
       "      <th>2</th>\n",
       "      <td>172.00</td>\n",
       "      <td>104.58</td>\n",
       "      <td>104.29</td>\n",
       "      <td>4.99</td>\n",
       "      <td>3.39</td>\n",
       "      <td>111.57</td>\n",
       "    </tr>\n",
       "    <tr>\n",
       "      <th>3</th>\n",
       "      <td>172.49</td>\n",
       "      <td>104.55</td>\n",
       "      <td>104.34</td>\n",
       "      <td>4.44</td>\n",
       "      <td>3.03</td>\n",
       "      <td>113.20</td>\n",
       "    </tr>\n",
       "    <tr>\n",
       "      <th>4</th>\n",
       "      <td>171.65</td>\n",
       "      <td>103.63</td>\n",
       "      <td>103.56</td>\n",
       "      <td>3.77</td>\n",
       "      <td>3.16</td>\n",
       "      <td>113.33</td>\n",
       "    </tr>\n",
       "  </tbody>\n",
       "</table>\n",
       "</div>"
      ],
      "text/plain": [
       "   diagonal  height_left  height_right  margin_low  margin_up  length\n",
       "0    171.76       104.01        103.54        5.21       3.30  111.42\n",
       "1    171.87       104.17        104.13        6.00       3.31  112.09\n",
       "2    172.00       104.58        104.29        4.99       3.39  111.57\n",
       "3    172.49       104.55        104.34        4.44       3.03  113.20\n",
       "4    171.65       103.63        103.56        3.77       3.16  113.33"
      ]
     },
     "execution_count": 48,
     "metadata": {},
     "output_type": "execute_result"
    }
   ],
   "source": [
    "prod_data = prod_data.drop(columns = 'id')\n",
    "prod_data"
   ]
  },
  {
   "cell_type": "markdown",
   "id": "d3f6d7f4",
   "metadata": {},
   "source": [
    "On applique notre modèle sur les données."
   ]
  },
  {
   "cell_type": "code",
   "execution_count": 49,
   "id": "85934a60",
   "metadata": {},
   "outputs": [
    {
     "data": {
      "text/plain": [
       "array([1, 1, 1, 0, 0], dtype=int64)"
      ]
     },
     "execution_count": 49,
     "metadata": {},
     "output_type": "execute_result"
    }
   ],
   "source": [
    "prod_genui = estimator.predict(prod_data)\n",
    "prod_genui"
   ]
  },
  {
   "cell_type": "markdown",
   "id": "84f2ef0d",
   "metadata": {},
   "source": [
    "On ajoute nos résultats au dataframe."
   ]
  },
  {
   "cell_type": "code",
   "execution_count": 50,
   "id": "cbb46efd",
   "metadata": {},
   "outputs": [
    {
     "data": {
      "text/html": [
       "<div>\n",
       "<style scoped>\n",
       "    .dataframe tbody tr th:only-of-type {\n",
       "        vertical-align: middle;\n",
       "    }\n",
       "\n",
       "    .dataframe tbody tr th {\n",
       "        vertical-align: top;\n",
       "    }\n",
       "\n",
       "    .dataframe thead th {\n",
       "        text-align: right;\n",
       "    }\n",
       "</style>\n",
       "<table border=\"1\" class=\"dataframe\">\n",
       "  <thead>\n",
       "    <tr style=\"text-align: right;\">\n",
       "      <th></th>\n",
       "      <th>diagonal</th>\n",
       "      <th>height_left</th>\n",
       "      <th>height_right</th>\n",
       "      <th>margin_low</th>\n",
       "      <th>margin_up</th>\n",
       "      <th>length</th>\n",
       "      <th>is_genuine</th>\n",
       "    </tr>\n",
       "  </thead>\n",
       "  <tbody>\n",
       "    <tr>\n",
       "      <th>0</th>\n",
       "      <td>171.76</td>\n",
       "      <td>104.01</td>\n",
       "      <td>103.54</td>\n",
       "      <td>5.21</td>\n",
       "      <td>3.30</td>\n",
       "      <td>111.42</td>\n",
       "      <td>False</td>\n",
       "    </tr>\n",
       "    <tr>\n",
       "      <th>1</th>\n",
       "      <td>171.87</td>\n",
       "      <td>104.17</td>\n",
       "      <td>104.13</td>\n",
       "      <td>6.00</td>\n",
       "      <td>3.31</td>\n",
       "      <td>112.09</td>\n",
       "      <td>False</td>\n",
       "    </tr>\n",
       "    <tr>\n",
       "      <th>2</th>\n",
       "      <td>172.00</td>\n",
       "      <td>104.58</td>\n",
       "      <td>104.29</td>\n",
       "      <td>4.99</td>\n",
       "      <td>3.39</td>\n",
       "      <td>111.57</td>\n",
       "      <td>False</td>\n",
       "    </tr>\n",
       "    <tr>\n",
       "      <th>3</th>\n",
       "      <td>172.49</td>\n",
       "      <td>104.55</td>\n",
       "      <td>104.34</td>\n",
       "      <td>4.44</td>\n",
       "      <td>3.03</td>\n",
       "      <td>113.20</td>\n",
       "      <td>True</td>\n",
       "    </tr>\n",
       "    <tr>\n",
       "      <th>4</th>\n",
       "      <td>171.65</td>\n",
       "      <td>103.63</td>\n",
       "      <td>103.56</td>\n",
       "      <td>3.77</td>\n",
       "      <td>3.16</td>\n",
       "      <td>113.33</td>\n",
       "      <td>True</td>\n",
       "    </tr>\n",
       "  </tbody>\n",
       "</table>\n",
       "</div>"
      ],
      "text/plain": [
       "   diagonal  height_left  height_right  margin_low  margin_up  length  \\\n",
       "0    171.76       104.01        103.54        5.21       3.30  111.42   \n",
       "1    171.87       104.17        104.13        6.00       3.31  112.09   \n",
       "2    172.00       104.58        104.29        4.99       3.39  111.57   \n",
       "3    172.49       104.55        104.34        4.44       3.03  113.20   \n",
       "4    171.65       103.63        103.56        3.77       3.16  113.33   \n",
       "\n",
       "   is_genuine  \n",
       "0       False  \n",
       "1       False  \n",
       "2       False  \n",
       "3        True  \n",
       "4        True  "
      ]
     },
     "execution_count": 50,
     "metadata": {},
     "output_type": "execute_result"
    }
   ],
   "source": [
    "# On crée une variable des résultats\n",
    "prod_data[\"is_genuine\"] = prod_genui\n",
    "\n",
    "# On convertit les résultats en valeur booléenne\n",
    "prod_data.is_genuine = ~prod_data.is_genuine.astype('bool')\n",
    "\n",
    "prod_data"
   ]
  },
  {
   "cell_type": "markdown",
   "id": "57c11c5a",
   "metadata": {},
   "source": [
    "Sur les 5 billets, d'après notre modèle nous avons 3 faux billets."
   ]
  }
 ],
 "metadata": {
  "kernelspec": {
   "display_name": "Python 3 (ipykernel)",
   "language": "python",
   "name": "python3"
  },
  "language_info": {
   "codemirror_mode": {
    "name": "ipython",
    "version": 3
   },
   "file_extension": ".py",
   "mimetype": "text/x-python",
   "name": "python",
   "nbconvert_exporter": "python",
   "pygments_lexer": "ipython3",
   "version": "3.9.12"
  }
 },
 "nbformat": 4,
 "nbformat_minor": 5
}
